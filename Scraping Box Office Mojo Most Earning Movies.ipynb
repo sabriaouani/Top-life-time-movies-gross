{
 "cells": [
  {
   "cell_type": "code",
   "execution_count": 92,
   "id": "bd497880",
   "metadata": {},
   "outputs": [],
   "source": [
    "import pandas as pd\n",
    "import requests\n",
    "import numpy as np\n",
    "from bs4 import BeautifulSoup\n",
    "import sys\n",
    "from time import sleep\n",
    "from random import randint\n",
    "import openpyxl\n",
    "\n",
    "\n",
    "headers = {\"Accept-Language\": \"fr-fr;q=0.8, en-us;q=0.7,en;q=0.5\"}\n",
    "\n",
    "\n",
    "t_movie = []\n",
    "t_description = []\n",
    "t_picture = []\n",
    "t_international = []\n",
    "t_domestic = []\n",
    "t_worldwide = []\n",
    "t_distributor = []\n",
    "t_opening = []\n",
    "t_budget = []\n",
    "t_release = []\n",
    "t_family = []\n",
    "t_time = []\n",
    "t_gender = []\n",
    "t_year = []\n",
    "t_movieList = []    "
   ]
  },
  {
   "cell_type": "code",
   "execution_count": 93,
   "id": "87db6822",
   "metadata": {},
   "outputs": [],
   "source": [
    "alllink=[ u'https://www.boxofficemojo.com/title/tt2488496/?ref_=bo_cso_table_1', u'https://www.boxofficemojo.com/title/tt4154796/?ref_=bo_cso_table_2', u'https://www.boxofficemojo.com/title/tt10872600/?ref_=bo_cso_table_3', u'https://www.boxofficemojo.com/title/tt0499549/?ref_=bo_cso_table_4', u'https://www.boxofficemojo.com/title/tt1745960/?ref_=bo_cso_table_5', u'https://www.boxofficemojo.com/title/tt1825683/?ref_=bo_cso_table_6', u'https://www.boxofficemojo.com/title/tt4154756/?ref_=bo_cso_table_7', u'https://www.boxofficemojo.com/title/tt0120338/?ref_=bo_cso_table_8', u'https://www.boxofficemojo.com/title/tt0369610/?ref_=bo_cso_table_9', u'https://www.boxofficemojo.com/title/tt0848228/?ref_=bo_cso_table_10', u'https://www.boxofficemojo.com/title/tt2527336/?ref_=bo_cso_table_11', u'https://www.boxofficemojo.com/title/tt3606756/?ref_=bo_cso_table_12', u'https://www.boxofficemojo.com/title/tt6105098/?ref_=bo_cso_table_13', u'https://www.boxofficemojo.com/title/tt0468569/?ref_=bo_cso_table_14', u'https://www.boxofficemojo.com/title/tt3748528/?ref_=bo_cso_table_15', u'https://www.boxofficemojo.com/title/tt2527338/?ref_=bo_cso_table_16', u'https://www.boxofficemojo.com/title/tt2771200/?ref_=bo_cso_table_17', u'https://www.boxofficemojo.com/title/tt2277860/?ref_=bo_cso_table_18', u'https://www.boxofficemojo.com/title/tt4520988/?ref_=bo_cso_table_19', u'https://www.boxofficemojo.com/title/tt0120915/?ref_=bo_cso_table_20', u'https://www.boxofficemojo.com/title/tt0076759/?ref_=bo_cso_table_21', u'https://www.boxofficemojo.com/title/tt2395427/?ref_=bo_cso_table_22', u'https://www.boxofficemojo.com/title/tt1345836/?ref_=bo_cso_table_23', u'https://www.boxofficemojo.com/title/tt0298148/?ref_=bo_cso_table_24', u'https://www.boxofficemojo.com/title/tt0083866/?ref_=bo_cso_table_25', u'https://www.boxofficemojo.com/title/tt1979376/?ref_=bo_cso_table_26', u'https://www.boxofficemojo.com/title/tt9114286/?ref_=bo_cso_table_27', u'https://www.boxofficemojo.com/title/tt4154664/?ref_=bo_cso_table_28', u'https://www.boxofficemojo.com/title/tt1951264/?ref_=bo_cso_table_29', u'https://www.boxofficemojo.com/title/tt0383574/?ref_=bo_cso_table_30', u'https://www.boxofficemojo.com/title/tt0110357/?ref_=bo_cso_table_31', u'https://www.boxofficemojo.com/title/tt4881806/?ref_=bo_cso_table_32', u'https://www.boxofficemojo.com/title/tt0435761/?ref_=bo_cso_table_33', u'https://www.boxofficemojo.com/title/tt0451279/?ref_=bo_cso_table_34', u'https://www.boxofficemojo.com/title/tt9419884/?ref_=bo_cso_table_35', u'https://www.boxofficemojo.com/title/tt1300854/?ref_=bo_cso_table_36', u'https://www.boxofficemojo.com/title/tt3498820/?ref_=bo_cso_table_37', u'https://www.boxofficemojo.com/title/tt1392170/?ref_=bo_cso_table_38', u'https://www.boxofficemojo.com/title/tt0145487/?ref_=bo_cso_table_39', u'https://www.boxofficemojo.com/title/tt2283362/?ref_=bo_cso_table_40', u'https://www.boxofficemojo.com/title/tt0107290/?ref_=bo_cso_table_41', u'https://www.boxofficemojo.com/title/tt1055369/?ref_=bo_cso_table_42', u'https://www.boxofficemojo.com/title/tt2294629/?ref_=bo_cso_table_43', u'https://www.boxofficemojo.com/title/tt6320628/?ref_=bo_cso_table_44', u'https://www.boxofficemojo.com/title/tt3896198/?ref_=bo_cso_table_45', u'https://www.boxofficemojo.com/title/tt1201607/?ref_=bo_cso_table_46', u'https://www.boxofficemojo.com/title/tt0266543/?ref_=bo_cso_table_47', u'https://www.boxofficemojo.com/title/tt0121766/?ref_=bo_cso_table_48', u'https://www.boxofficemojo.com/title/tt0167260/?ref_=bo_cso_table_49', u'https://www.boxofficemojo.com/title/tt8041270/?ref_=bo_cso_table_50', u'https://www.boxofficemojo.com/title/tt0316654/?ref_=bo_cso_table_51', u'https://www.boxofficemojo.com/title/tt0335345/?ref_=bo_cso_table_52', u'https://www.boxofficemojo.com/title/tt5113044/?ref_=bo_cso_table_53', u'https://www.boxofficemojo.com/title/tt1877830/?ref_=bo_cso_table_54', u'https://www.boxofficemojo.com/title/tt2709768/?ref_=bo_cso_table_55', u'https://www.boxofficemojo.com/title/tt1690953/?ref_=bo_cso_table_56', u'https://www.boxofficemojo.com/title/tt3040964/?ref_=bo_cso_table_57', u'https://www.boxofficemojo.com/title/tt1431045/?ref_=bo_cso_table_58', u'https://www.boxofficemojo.com/title/tt2096673/?ref_=bo_cso_table_59', u'https://www.boxofficemojo.com/title/tt6139732/?ref_=bo_cso_table_60', u'https://www.boxofficemojo.com/title/tt2820852/?ref_=bo_cso_table_61', u'https://www.boxofficemojo.com/title/tt1399103/?ref_=bo_cso_table_62', u'https://www.boxofficemojo.com/title/tt2179136/?ref_=bo_cso_table_63', u'https://www.boxofficemojo.com/title/tt10648342/?ref_=bo_cso_table_64', u'https://www.boxofficemojo.com/title/tt0167261/?ref_=bo_cso_table_65', u'https://www.boxofficemojo.com/title/tt2948356/?ref_=bo_cso_table_66', u'https://www.boxofficemojo.com/title/tt1951265/?ref_=bo_cso_table_67', u'https://www.boxofficemojo.com/title/tt0413300/?ref_=bo_cso_table_68', u'https://www.boxofficemojo.com/title/tt2293640/?ref_=bo_cso_table_69', u'https://www.boxofficemojo.com/title/tt7286456/?ref_=bo_cso_table_70', u'https://www.boxofficemojo.com/title/tt1477834/?ref_=bo_cso_table_71', u'https://www.boxofficemojo.com/title/tt2250912/?ref_=bo_cso_table_72', u'https://www.boxofficemojo.com/title/tt1014759/?ref_=bo_cso_table_73', u'https://www.boxofficemojo.com/title/tt2015381/?ref_=bo_cso_table_74', u'https://www.boxofficemojo.com/title/tt0109830/?ref_=bo_cso_table_75', u'https://www.boxofficemojo.com/title/tt2975590/?ref_=bo_cso_table_76', u'https://www.boxofficemojo.com/title/tt1396484/?ref_=bo_cso_table_77', u'https://www.boxofficemojo.com/title/tt1386697/?ref_=bo_cso_table_78', u'https://www.boxofficemojo.com/title/tt5463162/?ref_=bo_cso_table_79', u'https://www.boxofficemojo.com/title/tt0413267/?ref_=bo_cso_table_80', u'https://www.boxofficemojo.com/title/tt7975244/?ref_=bo_cso_table_81', u'https://www.boxofficemojo.com/title/tt0418279/?ref_=bo_cso_table_82', u'https://www.boxofficemojo.com/title/tt0371746/?ref_=bo_cso_table_83', u'https://www.boxofficemojo.com/title/tt0241527/?ref_=bo_cso_table_84', u'https://www.boxofficemojo.com/title/tt0367882/?ref_=bo_cso_table_85', u'https://www.boxofficemojo.com/title/tt0120737/?ref_=bo_cso_table_86', u'https://www.boxofficemojo.com/title/tt3501632/?ref_=bo_cso_table_87', u'https://www.boxofficemojo.com/title/tt1228705/?ref_=bo_cso_table_88', u'https://www.boxofficemojo.com/title/tt0121765/?ref_=bo_cso_table_89', u'https://www.boxofficemojo.com/title/tt0449088/?ref_=bo_cso_table_90', u'https://www.boxofficemojo.com/title/tt0086190/?ref_=bo_cso_table_91', u'https://www.boxofficemojo.com/title/tt0116629/?ref_=bo_cso_table_92', u'https://www.boxofficemojo.com/title/tt0325980/?ref_=bo_cso_table_93', u'https://www.boxofficemojo.com/title/tt1074638/?ref_=bo_cso_table_94', u'https://www.boxofficemojo.com/title/tt0903624/?ref_=bo_cso_table_95', u'https://www.boxofficemojo.com/title/tt0417741/?ref_=bo_cso_table_96', u'https://www.boxofficemojo.com/title/tt1325004/?ref_=bo_cso_table_97', u'https://www.boxofficemojo.com/title/tt1259571/?ref_=bo_cso_table_98', u'https://www.boxofficemojo.com/title/tt0926084/?ref_=bo_cso_table_99', u'https://www.boxofficemojo.com/title/tt0167404/?ref_=bo_cso_table_100', u'https://www.boxofficemojo.com/title/tt1630029/?ref_=bo_cso_table_101', u'https://www.boxofficemojo.com/title/tt1049413/?ref_=bo_cso_table_102', u'https://www.boxofficemojo.com/title/tt0080684/?ref_=bo_cso_table_103', u'https://www.boxofficemojo.com/title/tt1375666/?ref_=bo_cso_table_104', u'https://www.boxofficemojo.com/title/tt0373889/?ref_=bo_cso_table_105', u'https://www.boxofficemojo.com/title/tt1673434/?ref_=bo_cso_table_106', u'https://www.boxofficemojo.com/title/tt0363771/?ref_=bo_cso_table_107', u'https://www.boxofficemojo.com/title/tt0770828/?ref_=bo_cso_table_108', u'https://www.boxofficemojo.com/title/tt0198781/?ref_=bo_cso_table_109', u'https://www.boxofficemojo.com/title/tt0330373/?ref_=bo_cso_table_110', u'https://www.boxofficemojo.com/title/tt0099785/?ref_=bo_cso_table_111', u'https://www.boxofficemojo.com/title/tt1951266/?ref_=bo_cso_table_112', u'https://www.boxofficemojo.com/title/tt0234215/?ref_=bo_cso_table_113', u'https://www.boxofficemojo.com/title/tt1324999/?ref_=bo_cso_table_114', u'https://www.boxofficemojo.com/title/tt0290002/?ref_=bo_cso_table_115', u'https://www.boxofficemojo.com/title/tt1119646/?ref_=bo_cso_table_116', u'https://www.boxofficemojo.com/title/tt1454468/?ref_=bo_cso_table_117', u'https://www.boxofficemojo.com/title/tt2709692/?ref_=bo_cso_table_118', u'https://www.boxofficemojo.com/title/tt3470600/?ref_=bo_cso_table_119', u'https://www.boxofficemojo.com/title/tt1453405/?ref_=bo_cso_table_120', u'https://www.boxofficemojo.com/title/tt0126029/?ref_=bo_cso_table_121', u'https://www.boxofficemojo.com/title/tt0073195/?ref_=bo_cso_table_122', u'https://www.boxofficemojo.com/title/tt3469046/?ref_=bo_cso_table_123', u'https://www.boxofficemojo.com/title/tt0295297/?ref_=bo_cso_table_124', u'https://www.boxofficemojo.com/title/tt0948470/?ref_=bo_cso_table_125', u'https://www.boxofficemojo.com/title/tt0317705/?ref_=bo_cso_table_126', u'https://www.boxofficemojo.com/title/tt0170016/?ref_=bo_cso_table_127', u'https://www.boxofficemojo.com/title/tt1843866/?ref_=bo_cso_table_128', u'https://www.boxofficemojo.com/title/tt1170358/?ref_=bo_cso_table_129', u'https://www.boxofficemojo.com/title/tt1490017/?ref_=bo_cso_table_130', u'https://www.boxofficemojo.com/title/tt0796366/?ref_=bo_cso_table_131', u'https://www.boxofficemojo.com/title/tt0480249/?ref_=bo_cso_table_132', u'https://www.boxofficemojo.com/title/tt0878804/?ref_=bo_cso_table_133', u'https://www.boxofficemojo.com/title/tt2310332/?ref_=bo_cso_table_134', u'https://www.boxofficemojo.com/title/tt1411697/?ref_=bo_cso_table_135', u'https://www.boxofficemojo.com/title/tt1323594/?ref_=bo_cso_table_136', u'https://www.boxofficemojo.com/title/tt0096895/?ref_=bo_cso_table_137', u'https://www.boxofficemojo.com/title/tt0477347/?ref_=bo_cso_table_138', u'https://www.boxofficemojo.com/title/tt0119654/?ref_=bo_cso_table_139', u'https://www.boxofficemojo.com/title/tt0304141/?ref_=bo_cso_table_140', u'https://www.boxofficemojo.com/title/tt3521164/?ref_=bo_cso_table_141', u'https://www.boxofficemojo.com/title/tt0082971/?ref_=bo_cso_table_142', u'https://www.boxofficemojo.com/title/tt0120363/?ref_=bo_cso_table_143', u'https://www.boxofficemojo.com/title/tt2109248/?ref_=bo_cso_table_144', u'https://www.boxofficemojo.com/title/tt0317219/?ref_=bo_cso_table_145', u'https://www.boxofficemojo.com/title/tt0087332/?ref_=bo_cso_table_146', u'https://www.boxofficemojo.com/title/tt0315327/?ref_=bo_cso_table_147', u'https://www.boxofficemojo.com/title/tt0117998/?ref_=bo_cso_table_148', u'https://www.boxofficemojo.com/title/tt0259446/?ref_=bo_cso_table_149', u'https://www.boxofficemojo.com/title/tt1587310/?ref_=bo_cso_table_150', u'https://www.boxofficemojo.com/title/tt1298650/?ref_=bo_cso_table_151', u'https://www.boxofficemojo.com/title/tt0892791/?ref_=bo_cso_table_152', u'https://www.boxofficemojo.com/title/tt1905041/?ref_=bo_cso_table_153', u'https://www.boxofficemojo.com/title/tt1217209/?ref_=bo_cso_table_154', u'https://www.boxofficemojo.com/title/tt1623205/?ref_=bo_cso_table_155', u'https://www.boxofficemojo.com/title/tt0086960/?ref_=bo_cso_table_156', u'https://www.boxofficemojo.com/title/tt0376994/?ref_=bo_cso_table_157', u'https://www.boxofficemojo.com/title/tt0407304/?ref_=bo_cso_table_158', u'https://www.boxofficemojo.com/title/tt3183660/?ref_=bo_cso_table_159', u'https://www.boxofficemojo.com/title/tt1877832/?ref_=bo_cso_table_160', u'https://www.boxofficemojo.com/title/tt0162222/?ref_=bo_cso_table_161', u'https://www.boxofficemojo.com/title/tt0070047/?ref_=bo_cso_table_162', u'https://www.boxofficemojo.com/title/tt1211837/?ref_=bo_cso_table_163', u'https://www.boxofficemojo.com/title/tt0119567/?ref_=bo_cso_table_164', u'https://www.boxofficemojo.com/title/tt0974015/?ref_=bo_cso_table_165', u'https://www.boxofficemojo.com/title/tt1408101/?ref_=bo_cso_table_166', u'https://www.boxofficemojo.com/title/tt3659388/?ref_=bo_cso_table_167', u'https://www.boxofficemojo.com/title/tt0286106/?ref_=bo_cso_table_168', u'https://www.boxofficemojo.com/title/tt0448157/?ref_=bo_cso_table_169', u'https://www.boxofficemojo.com/title/tt0440963/?ref_=bo_cso_table_170', u'https://www.boxofficemojo.com/title/tt3315342/?ref_=bo_cso_table_171', u'https://www.boxofficemojo.com/title/tt0266915/?ref_=bo_cso_table_172', u'https://www.boxofficemojo.com/title/tt4630562/?ref_=bo_cso_table_173', u'https://www.boxofficemojo.com/title/tt9376612/?ref_=bo_cso_table_174', u'https://www.boxofficemojo.com/title/tt0910970/?ref_=bo_cso_table_175', u'https://www.boxofficemojo.com/title/tt0114709/?ref_=bo_cso_table_176', u'https://www.boxofficemojo.com/title/tt2245084/?ref_=bo_cso_table_177', u'https://www.boxofficemojo.com/title/tt4912910/?ref_=bo_cso_table_178', u'https://www.boxofficemojo.com/title/tt0465234/?ref_=bo_cso_table_179', u'https://www.boxofficemojo.com/title/tt1231580/?ref_=bo_cso_table_180', u'https://www.boxofficemojo.com/title/tt0107614/?ref_=bo_cso_table_181', u'https://www.boxofficemojo.com/title/tt0101414/?ref_=bo_cso_table_182', u'https://www.boxofficemojo.com/title/tt1637725/?ref_=bo_cso_table_183', u'https://www.boxofficemojo.com/title/tt0360717/?ref_=bo_cso_table_184', u'https://www.boxofficemojo.com/title/tt0099653/?ref_=bo_cso_table_185', u'https://www.boxofficemojo.com/title/tt0892769/?ref_=bo_cso_table_186', u'https://www.boxofficemojo.com/title/tt0382625/?ref_=bo_cso_table_187', u'https://www.boxofficemojo.com/title/tt0103639/?ref_=bo_cso_table_188', u'https://www.boxofficemojo.com/title/tt0952640/?ref_=bo_cso_table_189', u'https://www.boxofficemojo.com/title/tt0120815/?ref_=bo_cso_table_190', u'https://www.boxofficemojo.com/title/tt1727824/?ref_=bo_cso_table_191', u'https://www.boxofficemojo.com/title/tt5095030/?ref_=bo_cso_table_192', u'https://www.boxofficemojo.com/title/tt1277953/?ref_=bo_cso_table_193', u'https://www.boxofficemojo.com/title/tt0441773/?ref_=bo_cso_table_194', u'https://www.boxofficemojo.com/title/tt0120755/?ref_=bo_cso_table_195', u'https://www.boxofficemojo.com/title/tt1517451/?ref_=bo_cso_table_196', u'https://www.boxofficemojo.com/title/tt0290334/?ref_=bo_cso_table_197', u'https://www.boxofficemojo.com/title/tt1482459/?ref_=bo_cso_table_198', u'https://www.boxofficemojo.com/title/tt3778644/?ref_=bo_cso_table_199', u'https://www.boxofficemojo.com/title/tt7097896/?ref_=bo_cso_table_200', u'https://www.boxofficemojo.com/title/tt1270797/?ref_=bo_cso_table_1', u'https://www.boxofficemojo.com/title/tt0295178/?ref_=bo_cso_table_2', u'https://www.boxofficemojo.com/title/tt0088763/?ref_=bo_cso_table_3', u'https://www.boxofficemojo.com/title/tt7349950/?ref_=bo_cso_table_4', u'https://www.boxofficemojo.com/title/tt0416449/?ref_=bo_cso_table_5', u'https://www.boxofficemojo.com/title/tt2380307/?ref_=bo_cso_table_6', u'https://www.boxofficemojo.com/title/tt1596343/?ref_=bo_cso_table_7', u'https://www.boxofficemojo.com/title/tt1229238/?ref_=bo_cso_table_8', u'https://www.boxofficemojo.com/title/tt0396269/?ref_=bo_cso_table_9', u'https://www.boxofficemojo.com/title/tt0988045/?ref_=bo_cso_table_10', u'https://www.boxofficemojo.com/title/tt2103281/?ref_=bo_cso_table_11', u'https://www.boxofficemojo.com/title/tt0372784/?ref_=bo_cso_table_12', u'https://www.boxofficemojo.com/title/tt0367594/?ref_=bo_cso_table_13', u'https://www.boxofficemojo.com/title/tt0382932/?ref_=bo_cso_table_14', u'https://www.boxofficemojo.com/title/tt1981115/?ref_=bo_cso_table_15', u'https://www.boxofficemojo.com/title/tt1502397/?ref_=bo_cso_table_16', u'https://www.boxofficemojo.com/title/tt0145660/?ref_=bo_cso_table_17', u'https://www.boxofficemojo.com/title/tt0103064/?ref_=bo_cso_table_18', u'https://www.boxofficemojo.com/title/tt1872181/?ref_=bo_cso_table_19', u'https://www.boxofficemojo.com/title/tt0816711/?ref_=bo_cso_table_20', u'https://www.boxofficemojo.com/title/tt0209163/?ref_=bo_cso_table_21', u'https://www.boxofficemojo.com/title/tt0120591/?ref_=bo_cso_table_22', u'https://www.boxofficemojo.com/title/tt1661199/?ref_=bo_cso_table_23', u'https://www.boxofficemojo.com/title/tt5848272/?ref_=bo_cso_table_24', u'https://www.boxofficemojo.com/title/tt0031381/?ref_=bo_cso_table_25', u'https://www.boxofficemojo.com/title/tt0398286/?ref_=bo_cso_table_26', u'https://www.boxofficemojo.com/title/tt0831387/?ref_=bo_cso_table_27', u'https://www.boxofficemojo.com/title/tt0348150/?ref_=bo_cso_table_28', u'https://www.boxofficemojo.com/title/tt2379713/?ref_=bo_cso_table_29', u'https://www.boxofficemojo.com/title/tt0213149/?ref_=bo_cso_table_30', u'https://www.boxofficemojo.com/title/tt0892782/?ref_=bo_cso_table_31', u'https://www.boxofficemojo.com/title/tt0366548/?ref_=bo_cso_table_32', u'https://www.boxofficemojo.com/title/tt0097576/?ref_=bo_cso_table_33', u'https://www.boxofficemojo.com/title/tt1080016/?ref_=bo_cso_table_34', u'https://www.boxofficemojo.com/title/tt0438097/?ref_=bo_cso_table_35', u'https://www.boxofficemojo.com/title/tt2381249/?ref_=bo_cso_table_36', u'https://www.boxofficemojo.com/title/tt1099212/?ref_=bo_cso_table_37', u'https://www.boxofficemojo.com/title/tt0120912/?ref_=bo_cso_table_38', u'https://www.boxofficemojo.com/title/tt0351283/?ref_=bo_cso_table_39', u'https://www.boxofficemojo.com/title/tt2294449/?ref_=bo_cso_table_40', u'https://www.boxofficemojo.com/title/tt1216475/?ref_=bo_cso_table_41', u'https://www.boxofficemojo.com/title/tt1291150/?ref_=bo_cso_table_42', u'https://www.boxofficemojo.com/title/tt12412888/?ref_=bo_cso_table_43', u'https://www.boxofficemojo.com/title/tt4633694/?ref_=bo_cso_table_44', u'https://www.boxofficemojo.com/title/tt0077631/?ref_=bo_cso_table_45', u'https://www.boxofficemojo.com/title/tt5013056/?ref_=bo_cso_table_46', u'https://www.boxofficemojo.com/title/tt1772341/?ref_=bo_cso_table_47', u'https://www.boxofficemojo.com/title/tt0338348/?ref_=bo_cso_table_48', u'https://www.boxofficemojo.com/title/tt6644200/?ref_=bo_cso_table_49', u'https://www.boxofficemojo.com/title/tt0816692/?ref_=bo_cso_table_50', u'https://www.boxofficemojo.com/title/tt0172495/?ref_=bo_cso_table_51', u'https://www.boxofficemojo.com/title/tt0481499/?ref_=bo_cso_table_52', u'https://www.boxofficemojo.com/title/tt1515091/?ref_=bo_cso_table_53', u'https://www.boxofficemojo.com/title/tt0319262/?ref_=bo_cso_table_54', u'https://www.boxofficemojo.com/title/tt0356910/?ref_=bo_cso_table_55', u'https://www.boxofficemojo.com/title/tt0029583/?ref_=bo_cso_table_56', u'https://www.boxofficemojo.com/title/tt2848292/?ref_=bo_cso_table_57', u'https://www.boxofficemojo.com/title/tt0099348/?ref_=bo_cso_table_58', u'https://www.boxofficemojo.com/title/tt0112462/?ref_=bo_cso_table_59', u'https://www.boxofficemojo.com/title/tt0106977/?ref_=bo_cso_table_60', u'https://www.boxofficemojo.com/title/tt3480822/?ref_=bo_cso_table_61', u'https://www.boxofficemojo.com/title/tt1663202/?ref_=bo_cso_table_62', u'https://www.boxofficemojo.com/title/tt0240772/?ref_=bo_cso_table_63', u'https://www.boxofficemojo.com/title/tt0462538/?ref_=bo_cso_table_64', u'https://www.boxofficemojo.com/title/tt0207201/?ref_=bo_cso_table_65', u'https://www.boxofficemojo.com/title/tt0177971/?ref_=bo_cso_table_66', u'https://www.boxofficemojo.com/title/tt0443272/?ref_=bo_cso_table_67', u'https://www.boxofficemojo.com/title/tt0119528/?ref_=bo_cso_table_68', u'https://www.boxofficemojo.com/title/tt0163025/?ref_=bo_cso_table_69', u'https://www.boxofficemojo.com/title/tt0800369/?ref_=bo_cso_table_70', u'https://www.boxofficemojo.com/title/tt0117060/?ref_=bo_cso_table_71', u'https://www.boxofficemojo.com/title/tt0092099/?ref_=bo_cso_table_72', u'https://www.boxofficemojo.com/title/tt0478970/?ref_=bo_cso_table_73', u'https://www.boxofficemojo.com/title/tt0133152/?ref_=bo_cso_table_74', u'https://www.boxofficemojo.com/title/tt0479952/?ref_=bo_cso_table_75', u'https://www.boxofficemojo.com/title/tt0458525/?ref_=bo_cso_table_76', u'https://www.boxofficemojo.com/title/tt0087469/?ref_=bo_cso_table_77', u'https://www.boxofficemojo.com/title/tt0386588/?ref_=bo_cso_table_78', u'https://www.boxofficemojo.com/title/tt1409024/?ref_=bo_cso_table_79', u'https://www.boxofficemojo.com/title/tt0100405/?ref_=bo_cso_table_80', u'https://www.boxofficemojo.com/title/tt0319343/?ref_=bo_cso_table_81', u'https://www.boxofficemojo.com/title/tt2224026/?ref_=bo_cso_table_82', u'https://www.boxofficemojo.com/title/tt1078912/?ref_=bo_cso_table_83', u'https://www.boxofficemojo.com/title/tt0084805/?ref_=bo_cso_table_84', u'https://www.boxofficemojo.com/title/tt1646971/?ref_=bo_cso_table_85', u'https://www.boxofficemojo.com/title/tt1318514/?ref_=bo_cso_table_86', u'https://www.boxofficemojo.com/title/tt0458339/?ref_=bo_cso_table_87', u'https://www.boxofficemojo.com/title/tt1155076/?ref_=bo_cso_table_88', u'https://www.boxofficemojo.com/title/tt0129387/?ref_=bo_cso_table_89', u'https://www.boxofficemojo.com/title/tt0268380/?ref_=bo_cso_table_90', u'https://www.boxofficemojo.com/title/tt0372183/?ref_=bo_cso_table_91', u'https://www.boxofficemojo.com/title/tt5052448/?ref_=bo_cso_table_92', u'https://www.boxofficemojo.com/title/tt4116284/?ref_=bo_cso_table_93', u'https://www.boxofficemojo.com/title/tt6857112/?ref_=bo_cso_table_94', u'https://www.boxofficemojo.com/title/tt3874544/?ref_=bo_cso_table_95', u'https://www.boxofficemojo.com/title/tt3104988/?ref_=bo_cso_table_96', u'https://www.boxofficemojo.com/title/tt0090555/?ref_=bo_cso_table_97', u'https://www.boxofficemojo.com/title/tt1485796/?ref_=bo_cso_table_98', u'https://www.boxofficemojo.com/title/tt6806448/?ref_=bo_cso_table_99', u'https://www.boxofficemojo.com/title/tt0112384/?ref_=bo_cso_table_100', u'https://www.boxofficemojo.com/title/tt0104431/?ref_=bo_cso_table_101', u'https://www.boxofficemojo.com/title/tt0368891/?ref_=bo_cso_table_102', u'https://www.boxofficemojo.com/title/tt5433138/?ref_=bo_cso_table_103', u'https://www.boxofficemojo.com/title/tt0118571/?ref_=bo_cso_table_104', u'https://www.boxofficemojo.com/title/tt0095953/?ref_=bo_cso_table_105', u'https://www.boxofficemojo.com/title/tt1790809/?ref_=bo_cso_table_106', u'https://www.boxofficemojo.com/title/tt0133093/?ref_=bo_cso_table_107', u'https://www.boxofficemojo.com/title/tt1104001/?ref_=bo_cso_table_108', u'https://www.boxofficemojo.com/title/tt5028340/?ref_=bo_cso_table_109', u'https://www.boxofficemojo.com/title/tt1403865/?ref_=bo_cso_table_110', u'https://www.boxofficemojo.com/title/tt0120855/?ref_=bo_cso_table_111', u'https://www.boxofficemojo.com/title/tt6146586/?ref_=bo_cso_table_112', u'https://www.boxofficemojo.com/title/tt0268978/?ref_=bo_cso_table_113', u'https://www.boxofficemojo.com/title/tt0299658/?ref_=bo_cso_table_114', u'https://www.boxofficemojo.com/title/tt1454029/?ref_=bo_cso_table_115', u'https://www.boxofficemojo.com/title/tt2510894/?ref_=bo_cso_table_116', u'https://www.boxofficemojo.com/title/tt4846340/?ref_=bo_cso_table_117', u'https://www.boxofficemojo.com/title/tt1478338/?ref_=bo_cso_table_118', u'https://www.boxofficemojo.com/title/tt0830515/?ref_=bo_cso_table_119', u'https://www.boxofficemojo.com/title/tt0486946/?ref_=bo_cso_table_120', u'https://www.boxofficemojo.com/title/tt3731562/?ref_=bo_cso_table_121', u'https://www.boxofficemojo.com/title/tt6443346/?ref_=bo_cso_table_122', u'https://www.boxofficemojo.com/title/tt0094137/?ref_=bo_cso_table_123', u'https://www.boxofficemojo.com/title/tt2267998/?ref_=bo_cso_table_124', u'https://www.boxofficemojo.com/title/tt5220122/?ref_=bo_cso_table_125', u'https://www.boxofficemojo.com/title/tt0381061/?ref_=bo_cso_table_126', u'https://www.boxofficemojo.com/title/tt0212338/?ref_=bo_cso_table_127', u'https://www.boxofficemojo.com/title/tt2322441/?ref_=bo_cso_table_128', u'https://www.boxofficemojo.com/title/tt1190080/?ref_=bo_cso_table_129', u'https://www.boxofficemojo.com/title/tt0102798/?ref_=bo_cso_table_130', u'https://www.boxofficemojo.com/title/tt8946378/?ref_=bo_cso_table_131', u'https://www.boxofficemojo.com/title/tt1302011/?ref_=bo_cso_table_132', u'https://www.boxofficemojo.com/title/tt0212985/?ref_=bo_cso_table_133', u'https://www.boxofficemojo.com/title/tt9032400/?ref_=bo_cso_table_134', u'https://www.boxofficemojo.com/title/tt0264464/?ref_=bo_cso_table_135', u'https://www.boxofficemojo.com/title/tt1041829/?ref_=bo_cso_table_136', u'https://www.boxofficemojo.com/title/tt0454921/?ref_=bo_cso_table_137', u'https://www.boxofficemojo.com/title/tt0142342/?ref_=bo_cso_table_138', u'https://www.boxofficemojo.com/title/tt0800320/?ref_=bo_cso_table_139', u'https://www.boxofficemojo.com/title/tt2279373/?ref_=bo_cso_table_140', u'https://www.boxofficemojo.com/title/tt0103776/?ref_=bo_cso_table_141', u'https://www.boxofficemojo.com/title/tt1853728/?ref_=bo_cso_table_142', u'https://www.boxofficemojo.com/title/tt0120623/?ref_=bo_cso_table_143', u'https://www.boxofficemojo.com/title/tt6467266/?ref_=bo_cso_table_144', u'https://www.boxofficemojo.com/title/tt4196776/?ref_=bo_cso_table_145', u'https://www.boxofficemojo.com/title/tt1375670/?ref_=bo_cso_table_146', u'https://www.boxofficemojo.com/title/tt0120484/?ref_=bo_cso_table_147', u'https://www.boxofficemojo.com/title/tt1667889/?ref_=bo_cso_table_148', u'https://www.boxofficemojo.com/title/tt1398426/?ref_=bo_cso_table_149', u'https://www.boxofficemojo.com/title/tt2386490/?ref_=bo_cso_table_150', u'https://www.boxofficemojo.com/title/tt0246460/?ref_=bo_cso_table_151', u'https://www.boxofficemojo.com/title/tt2382320/?ref_=bo_cso_table_152', u'https://www.boxofficemojo.com/title/tt0307453/?ref_=bo_cso_table_153', u'https://www.boxofficemojo.com/title/tt8332922/?ref_=bo_cso_table_154', u'https://www.boxofficemojo.com/title/tt2404463/?ref_=bo_cso_table_155', u'https://www.boxofficemojo.com/title/tt4123430/?ref_=bo_cso_table_156', u'https://www.boxofficemojo.com/title/tt1502407/?ref_=bo_cso_table_157', u'https://www.boxofficemojo.com/title/tt0059742/?ref_=bo_cso_table_158', u'https://www.boxofficemojo.com/title/tt8579674/?ref_=bo_cso_table_159', u'https://www.boxofficemojo.com/title/tt5113040/?ref_=bo_cso_table_160', u'https://www.boxofficemojo.com/title/tt2660888/?ref_=bo_cso_table_161', u'https://www.boxofficemojo.com/title/tt0106918/?ref_=bo_cso_table_162', u'https://www.boxofficemojo.com/title/tt0398165/?ref_=bo_cso_table_163', u'https://www.boxofficemojo.com/title/tt0120903/?ref_=bo_cso_table_164', u'https://www.boxofficemojo.com/title/tt0175142/?ref_=bo_cso_table_165', u'https://www.boxofficemojo.com/title/tt0093010/?ref_=bo_cso_table_166', u'https://www.boxofficemojo.com/title/tt0096438/?ref_=bo_cso_table_167', u'https://www.boxofficemojo.com/title/tt0070735/?ref_=bo_cso_table_168', u'https://www.boxofficemojo.com/title/tt0161081/?ref_=bo_cso_table_169', u'https://www.boxofficemojo.com/title/tt3385516/?ref_=bo_cso_table_170', u'https://www.boxofficemojo.com/title/tt0120616/?ref_=bo_cso_table_171', u'https://www.boxofficemojo.com/title/tt1735898/?ref_=bo_cso_table_172', u'https://www.boxofficemojo.com/title/tt2126355/?ref_=bo_cso_table_173', u'https://www.boxofficemojo.com/title/tt1013752/?ref_=bo_cso_table_174', u'https://www.boxofficemojo.com/title/tt0327084/?ref_=bo_cso_table_175', u'https://www.boxofficemojo.com/title/tt0120667/?ref_=bo_cso_table_176', u'https://www.boxofficemojo.com/title/tt0451079/?ref_=bo_cso_table_177', u'https://www.boxofficemojo.com/title/tt1392190/?ref_=bo_cso_table_178', u'https://www.boxofficemojo.com/title/tt1679335/?ref_=bo_cso_table_179', u'https://www.boxofficemojo.com/title/tt0116695/?ref_=bo_cso_table_180', u'https://www.boxofficemojo.com/title/tt0092644/?ref_=bo_cso_table_181', u'https://www.boxofficemojo.com/title/tt0087363/?ref_=bo_cso_table_182', u'https://www.boxofficemojo.com/title/tt0267913/?ref_=bo_cso_table_183', u'https://www.boxofficemojo.com/title/tt3606752/?ref_=bo_cso_table_184', u'https://www.boxofficemojo.com/title/tt1000774/?ref_=bo_cso_table_185', u'https://www.boxofficemojo.com/title/tt0163187/?ref_=bo_cso_table_186', u'https://www.boxofficemojo.com/title/tt3783958/?ref_=bo_cso_table_187', u'https://www.boxofficemojo.com/title/tt3704428/?ref_=bo_cso_table_188', u'https://www.boxofficemojo.com/title/tt1840309/?ref_=bo_cso_table_189', u'https://www.boxofficemojo.com/title/tt0089880/?ref_=bo_cso_table_190', u'https://www.boxofficemojo.com/title/tt1723121/?ref_=bo_cso_table_191', u'https://www.boxofficemojo.com/title/tt0181852/?ref_=bo_cso_table_192', u'https://www.boxofficemojo.com/title/tt1528854/?ref_=bo_cso_table_193', u'https://www.boxofficemojo.com/title/tt1046173/?ref_=bo_cso_table_194', u'https://www.boxofficemojo.com/title/tt2004420/?ref_=bo_cso_table_195', u'https://www.boxofficemojo.com/title/tt1800241/?ref_=bo_cso_table_196', u'https://www.boxofficemojo.com/title/tt0448694/?ref_=bo_cso_table_197', u'https://www.boxofficemojo.com/title/tt3794354/?ref_=bo_cso_table_198', u'https://www.boxofficemojo.com/title/tt1707386/?ref_=bo_cso_table_199', u'https://www.boxofficemojo.com/title/tt0478311/?ref_=bo_cso_table_200', u'https://www.boxofficemojo.com/title/tt1464335/?ref_=bo_cso_table_1', u'https://www.boxofficemojo.com/title/tt0119822/?ref_=bo_cso_table_2', u'https://www.boxofficemojo.com/title/tt0970866/?ref_=bo_cso_table_3', u'https://www.boxofficemojo.com/title/tt1001526/?ref_=bo_cso_table_4', u'https://www.boxofficemojo.com/title/tt0837562/?ref_=bo_cso_table_5', u'https://www.boxofficemojo.com/title/tt0415306/?ref_=bo_cso_table_6', u'https://www.boxofficemojo.com/title/tt1205489/?ref_=bo_cso_table_7', u'https://www.boxofficemojo.com/title/tt0097733/?ref_=bo_cso_table_8', u'https://www.boxofficemojo.com/title/tt3450958/?ref_=bo_cso_table_9', u'https://www.boxofficemojo.com/title/tt1270798/?ref_=bo_cso_table_10', u'https://www.boxofficemojo.com/title/tt1114740/?ref_=bo_cso_table_11', u'https://www.boxofficemojo.com/title/tt0111503/?ref_=bo_cso_table_12', u'https://www.boxofficemojo.com/title/tt0275847/?ref_=bo_cso_table_13', u'https://www.boxofficemojo.com/title/tt0111070/?ref_=bo_cso_table_14', u'https://www.boxofficemojo.com/title/tt4779682/?ref_=bo_cso_table_15', u'https://www.boxofficemojo.com/title/tt0252866/?ref_=bo_cso_table_16', u'https://www.boxofficemojo.com/title/tt0936501/?ref_=bo_cso_table_17', u'https://www.boxofficemojo.com/title/tt0055254/?ref_=bo_cso_table_18', u'https://www.boxofficemojo.com/title/tt1343092/?ref_=bo_cso_table_19', u'https://www.boxofficemojo.com/title/tt0343818/?ref_=bo_cso_table_20', u'https://www.boxofficemojo.com/title/tt0232500/?ref_=bo_cso_table_21', u'https://www.boxofficemojo.com/title/tt0104714/?ref_=bo_cso_table_22', u'https://www.boxofficemojo.com/title/tt5884052/?ref_=bo_cso_table_23', u'https://www.boxofficemojo.com/title/tt0795421/?ref_=bo_cso_table_24', u'https://www.boxofficemojo.com/title/tt0118998/?ref_=bo_cso_table_25', u'https://www.boxofficemojo.com/title/tt1436562/?ref_=bo_cso_table_26', u'https://www.boxofficemojo.com/title/tt2267968/?ref_=bo_cso_table_27', u'https://www.boxofficemojo.com/title/tt0467406/?ref_=bo_cso_table_28', u'https://www.boxofficemojo.com/title/tt0822832/?ref_=bo_cso_table_29', u'https://www.boxofficemojo.com/title/tt0472181/?ref_=bo_cso_table_30', u'https://www.boxofficemojo.com/title/tt7131622/?ref_=bo_cso_table_31', u'https://www.boxofficemojo.com/title/tt0295701/?ref_=bo_cso_table_32', u'https://www.boxofficemojo.com/title/tt0061852/?ref_=bo_cso_table_33', u'https://www.boxofficemojo.com/title/tt0499448/?ref_=bo_cso_table_34', u'https://www.boxofficemojo.com/title/tt0077975/?ref_=bo_cso_table_35', u'https://www.boxofficemojo.com/title/tt0114148/?ref_=bo_cso_table_36', u'https://www.boxofficemojo.com/title/tt0104257/?ref_=bo_cso_table_37', u'https://www.boxofficemojo.com/title/tt1010048/?ref_=bo_cso_table_38', u'https://www.boxofficemojo.com/title/tt0120812/?ref_=bo_cso_table_39', u'https://www.boxofficemojo.com/title/tt0185937/?ref_=bo_cso_table_40', u'https://www.boxofficemojo.com/title/tt0448115/?ref_=bo_cso_table_41', u'https://www.boxofficemojo.com/title/tt0120647/?ref_=bo_cso_table_42', u'https://www.boxofficemojo.com/title/tt5164214/?ref_=bo_cso_table_43', u'https://www.boxofficemojo.com/title/tt0293564/?ref_=bo_cso_table_44', u'https://www.boxofficemojo.com/title/tt0097778/?ref_=bo_cso_table_45', u'https://www.boxofficemojo.com/title/tt0164912/?ref_=bo_cso_table_46', u'https://www.boxofficemojo.com/title/tt1397280/?ref_=bo_cso_table_47', u'https://www.boxofficemojo.com/title/tt0105417/?ref_=bo_cso_table_48', u'https://www.boxofficemojo.com/title/tt0242653/?ref_=bo_cso_table_49', u'https://www.boxofficemojo.com/title/tt0304669/?ref_=bo_cso_table_50', u'https://www.boxofficemojo.com/title/tt1504320/?ref_=bo_cso_table_51', u'https://www.boxofficemojo.com/title/tt0349205/?ref_=bo_cso_table_52', u'https://www.boxofficemojo.com/title/tt0172156/?ref_=bo_cso_table_53', u'https://www.boxofficemojo.com/title/tt0091763/?ref_=bo_cso_table_54', u'https://www.boxofficemojo.com/title/tt1232829/?ref_=bo_cso_table_55', u'https://www.boxofficemojo.com/title/tt0119217/?ref_=bo_cso_table_56', u'https://www.boxofficemojo.com/title/tt4972582/?ref_=bo_cso_table_57', u'https://www.boxofficemojo.com/title/tt1067106/?ref_=bo_cso_table_58', u'https://www.boxofficemojo.com/title/tt0130623/?ref_=bo_cso_table_59', u'https://www.boxofficemojo.com/title/tt1677720/?ref_=bo_cso_table_60', u'https://www.boxofficemojo.com/title/tt1457767/?ref_=bo_cso_table_61', u'https://www.boxofficemojo.com/title/tt0389860/?ref_=bo_cso_table_62', u'https://www.boxofficemojo.com/title/tt0120689/?ref_=bo_cso_table_63', u'https://www.boxofficemojo.com/title/tt0117438/?ref_=bo_cso_table_64', u'https://www.boxofficemojo.com/title/tt0068646/?ref_=bo_cso_table_65', u'https://www.boxofficemojo.com/title/tt0120685/?ref_=bo_cso_table_66', u'https://www.boxofficemojo.com/title/tt0115433/?ref_=bo_cso_table_67', u'https://www.boxofficemojo.com/title/tt1024648/?ref_=bo_cso_table_68', u'https://www.boxofficemojo.com/title/tt0305224/?ref_=bo_cso_table_69', u'https://www.boxofficemojo.com/title/tt0371606/?ref_=bo_cso_table_70', u'https://www.boxofficemojo.com/title/tt0100758/?ref_=bo_cso_table_71', u'https://www.boxofficemojo.com/title/tt0075860/?ref_=bo_cso_table_72', u'https://www.boxofficemojo.com/title/tt0129290/?ref_=bo_cso_table_73', u'https://www.boxofficemojo.com/title/tt1408253/?ref_=bo_cso_table_74', u'https://www.boxofficemojo.com/title/tt0800080/?ref_=bo_cso_table_75', u'https://www.boxofficemojo.com/title/tt0337978/?ref_=bo_cso_table_76', u'https://www.boxofficemojo.com/title/tt0493464/?ref_=bo_cso_table_77', u'https://www.boxofficemojo.com/title/tt2024432/?ref_=bo_cso_table_78', u'https://www.boxofficemojo.com/title/tt0078346/?ref_=bo_cso_table_79', u'https://www.boxofficemojo.com/title/tt0117500/?ref_=bo_cso_table_80', u'https://www.boxofficemojo.com/title/tt0317919/?ref_=bo_cso_table_81', u'https://www.boxofficemojo.com/title/tt2191701/?ref_=bo_cso_table_82', u'https://www.boxofficemojo.com/title/tt0332452/?ref_=bo_cso_table_83', u'https://www.boxofficemojo.com/title/tt0808151/?ref_=bo_cso_table_84', u'https://www.boxofficemojo.com/title/tt1615918/?ref_=bo_cso_table_85', u'https://www.boxofficemojo.com/title/tt0305669/?ref_=bo_cso_table_86', u'https://www.boxofficemojo.com/title/tt1430132/?ref_=bo_cso_table_87', u'https://www.boxofficemojo.com/title/tt2543472/?ref_=bo_cso_table_88', u'https://www.boxofficemojo.com/title/tt0407887/?ref_=bo_cso_table_89', u'https://www.boxofficemojo.com/title/tt0286716/?ref_=bo_cso_table_90', u'https://www.boxofficemojo.com/title/tt1045658/?ref_=bo_cso_table_91', u'https://www.boxofficemojo.com/title/tt0181689/?ref_=bo_cso_table_92', u'https://www.boxofficemojo.com/title/tt0486576/?ref_=bo_cso_table_93', u'https://www.boxofficemojo.com/title/tt0938283/?ref_=bo_cso_table_94', u'https://www.boxofficemojo.com/title/tt2357291/?ref_=bo_cso_table_95', u'https://www.boxofficemojo.com/title/tt0146316/?ref_=bo_cso_table_96', u'https://www.boxofficemojo.com/title/tt0102926/?ref_=bo_cso_table_97', u'https://www.boxofficemojo.com/title/tt0097523/?ref_=bo_cso_table_98', u'https://www.boxofficemojo.com/title/tt0109813/?ref_=bo_cso_table_99', u'https://www.boxofficemojo.com/title/tt0122151/?ref_=bo_cso_table_100', u'https://www.boxofficemojo.com/title/tt0425061/?ref_=bo_cso_table_101', u'https://www.boxofficemojo.com/title/tt2908446/?ref_=bo_cso_table_102', u'https://www.boxofficemojo.com/title/tt2452042/?ref_=bo_cso_table_103', u'https://www.boxofficemojo.com/title/tt3371366/?ref_=bo_cso_table_104', u'https://www.boxofficemojo.com/title/tt0765429/?ref_=bo_cso_table_105', u'https://www.boxofficemojo.com/title/tt0169547/?ref_=bo_cso_table_106', u'https://www.boxofficemojo.com/title/tt0084434/?ref_=bo_cso_table_107', u'https://www.boxofficemojo.com/title/tt4513678/?ref_=bo_cso_table_108', u'https://www.boxofficemojo.com/title/tt0298130/?ref_=bo_cso_table_109', u'https://www.boxofficemojo.com/title/tt0117218/?ref_=bo_cso_table_110', u'https://www.boxofficemojo.com/title/tt0443453/?ref_=bo_cso_table_111', u'https://www.boxofficemojo.com/title/tt1289401/?ref_=bo_cso_table_112', u'https://www.boxofficemojo.com/title/tt2802144/?ref_=bo_cso_table_113', u'https://www.boxofficemojo.com/title/tt0358082/?ref_=bo_cso_table_114', u'https://www.boxofficemojo.com/title/tt0094898/?ref_=bo_cso_table_115', u'https://www.boxofficemojo.com/title/tt0190332/?ref_=bo_cso_table_116', u'https://www.boxofficemojo.com/title/tt1130884/?ref_=bo_cso_table_117', u'https://www.boxofficemojo.com/title/tt2180411/?ref_=bo_cso_table_118', u'https://www.boxofficemojo.com/title/tt0089927/?ref_=bo_cso_table_119', u'https://www.boxofficemojo.com/title/tt0461770/?ref_=bo_cso_table_120', u'https://www.boxofficemojo.com/title/tt0421715/?ref_=bo_cso_table_121', u'https://www.boxofficemojo.com/title/tt1489889/?ref_=bo_cso_table_122', u'https://www.boxofficemojo.com/title/tt1229340/?ref_=bo_cso_table_123', u'https://www.boxofficemojo.com/title/tt0256415/?ref_=bo_cso_table_124', u'https://www.boxofficemojo.com/title/tt4701182/?ref_=bo_cso_table_125', u'https://www.boxofficemojo.com/title/tt0109686/?ref_=bo_cso_table_126', u'https://www.boxofficemojo.com/title/tt0322259/?ref_=bo_cso_table_127', u'https://www.boxofficemojo.com/title/tt0119738/?ref_=bo_cso_table_128', u'https://www.boxofficemojo.com/title/tt1650062/?ref_=bo_cso_table_129', u'https://www.boxofficemojo.com/title/tt0143145/?ref_=bo_cso_table_130', u'https://www.boxofficemojo.com/title/tt0108160/?ref_=bo_cso_table_131', u'https://www.boxofficemojo.com/title/tt0076729/?ref_=bo_cso_table_132', u'https://www.boxofficemojo.com/title/tt2872732/?ref_=bo_cso_table_133', u'https://www.boxofficemojo.com/title/tt0918940/?ref_=bo_cso_table_134', u'https://www.boxofficemojo.com/title/tt0389790/?ref_=bo_cso_table_135', u'https://www.boxofficemojo.com/title/tt1446714/?ref_=bo_cso_table_136', u'https://www.boxofficemojo.com/title/tt1599348/?ref_=bo_cso_table_137', u'https://www.boxofficemojo.com/title/tt0280590/?ref_=bo_cso_table_138', u'https://www.boxofficemojo.com/title/tt0120382/?ref_=bo_cso_table_139', u'https://www.boxofficemojo.com/title/tt0195685/?ref_=bo_cso_table_140', u'https://www.boxofficemojo.com/title/tt0349903/?ref_=bo_cso_table_141', u'https://www.boxofficemojo.com/title/tt0438488/?ref_=bo_cso_table_142', u'https://www.boxofficemojo.com/title/tt0160127/?ref_=bo_cso_table_143', u'https://www.boxofficemojo.com/title/tt0120347/?ref_=bo_cso_table_144', u'https://www.boxofficemojo.com/title/tt1091191/?ref_=bo_cso_table_145', u'https://www.boxofficemojo.com/title/tt3263904/?ref_=bo_cso_table_146', u'https://www.boxofficemojo.com/title/tt0084602/?ref_=bo_cso_table_147', u'https://www.boxofficemojo.com/title/tt1606389/?ref_=bo_cso_table_148', u'https://www.boxofficemojo.com/title/tt0454876/?ref_=bo_cso_table_149', u'https://www.boxofficemojo.com/title/tt2582846/?ref_=bo_cso_table_150', u'https://www.boxofficemojo.com/title/tt0844471/?ref_=bo_cso_table_151', u'https://www.boxofficemojo.com/title/tt0458352/?ref_=bo_cso_table_152', u'https://www.boxofficemojo.com/title/tt0337741/?ref_=bo_cso_table_153', u'https://www.boxofficemojo.com/title/tt0181865/?ref_=bo_cso_table_154', u'https://www.boxofficemojo.com/title/tt0115685/?ref_=bo_cso_table_155', u'https://www.boxofficemojo.com/title/tt0101587/?ref_=bo_cso_table_156', u'https://www.boxofficemojo.com/title/tt0093105/?ref_=bo_cso_table_157', u'https://www.boxofficemojo.com/title/tt1192628/?ref_=bo_cso_table_158', u'https://www.boxofficemojo.com/title/tt0144528/?ref_=bo_cso_table_159', u'https://www.boxofficemojo.com/title/tt10954984/?ref_=bo_cso_table_160', u'https://www.boxofficemojo.com/title/tt1979388/?ref_=bo_cso_table_161', u'https://www.boxofficemojo.com/title/tt1583421/?ref_=bo_cso_table_162', u'https://www.boxofficemojo.com/title/tt0109444/?ref_=bo_cso_table_163', u'https://www.boxofficemojo.com/title/tt0103855/?ref_=bo_cso_table_164', u'https://www.boxofficemojo.com/title/tt0099810/?ref_=bo_cso_table_165', u'https://www.boxofficemojo.com/title/tt0105793/?ref_=bo_cso_table_166', u'https://www.boxofficemojo.com/title/tt0258463/?ref_=bo_cso_table_167', u'https://www.boxofficemojo.com/title/tt6264654/?ref_=bo_cso_table_168', u'https://www.boxofficemojo.com/title/tt0829482/?ref_=bo_cso_table_169', u'https://www.boxofficemojo.com/title/tt0111257/?ref_=bo_cso_table_170', u'https://www.boxofficemojo.com/title/tt0343660/?ref_=bo_cso_table_171', u'https://www.boxofficemojo.com/title/tt6911608/?ref_=bo_cso_table_172', u'https://www.boxofficemojo.com/title/tt0120762/?ref_=bo_cso_table_173', u'https://www.boxofficemojo.com/title/tt0361748/?ref_=bo_cso_table_174', u'https://www.boxofficemojo.com/title/tt0329575/?ref_=bo_cso_table_175', u'https://www.boxofficemojo.com/title/tt0338526/?ref_=bo_cso_table_176', u'https://www.boxofficemojo.com/title/tt0369436/?ref_=bo_cso_table_177', u'https://www.boxofficemojo.com/title/tt0762107/?ref_=bo_cso_table_178', u'https://www.boxofficemojo.com/title/tt0110475/?ref_=bo_cso_table_179', u'https://www.boxofficemojo.com/title/tt1985966/?ref_=bo_cso_table_180', u'https://www.boxofficemojo.com/title/tt0102057/?ref_=bo_cso_table_181', u'https://www.boxofficemojo.com/title/tt0071230/?ref_=bo_cso_table_182', u'https://www.boxofficemojo.com/title/tt0358273/?ref_=bo_cso_table_183', u'https://www.boxofficemojo.com/title/tt0436339/?ref_=bo_cso_table_184', u'https://www.boxofficemojo.com/title/tt0100802/?ref_=bo_cso_table_185', u'https://www.boxofficemojo.com/title/tt0082846/?ref_=bo_cso_table_186', u'https://www.boxofficemojo.com/title/tt1386588/?ref_=bo_cso_table_187', u'https://www.boxofficemojo.com/title/tt0361596/?ref_=bo_cso_table_188', u'https://www.boxofficemojo.com/title/tt0096874/?ref_=bo_cso_table_189', u'https://www.boxofficemojo.com/title/tt0427327/?ref_=bo_cso_table_190', u'https://www.boxofficemojo.com/title/tt0164184/?ref_=bo_cso_table_191', u'https://www.boxofficemojo.com/title/tt0452594/?ref_=bo_cso_table_192', u'https://www.boxofficemojo.com/title/tt0339291/?ref_=bo_cso_table_193', u'https://www.boxofficemojo.com/title/tt0445934/?ref_=bo_cso_table_194', u'https://www.boxofficemojo.com/title/tt0944835/?ref_=bo_cso_table_195', u'https://www.boxofficemojo.com/title/tt10298810/?ref_=bo_cso_table_196', u'https://www.boxofficemojo.com/title/tt0103772/?ref_=bo_cso_table_197', u'https://www.boxofficemojo.com/title/tt1670345/?ref_=bo_cso_table_198', u'https://www.boxofficemojo.com/title/tt1950186/?ref_=bo_cso_table_199', u'https://www.boxofficemojo.com/title/tt0208003/?ref_=bo_cso_table_200', u'https://www.boxofficemojo.com/title/tt0099423/?ref_=bo_cso_table_1', u'https://www.boxofficemojo.com/title/tt1499658/?ref_=bo_cso_table_2', u'https://www.boxofficemojo.com/title/tt5814060/?ref_=bo_cso_table_3', u'https://www.boxofficemojo.com/title/tt0075148/?ref_=bo_cso_table_4', u'https://www.boxofficemojo.com/title/tt1116184/?ref_=bo_cso_table_5', u'https://www.boxofficemojo.com/title/tt0496806/?ref_=bo_cso_table_6', u'https://www.boxofficemojo.com/title/tt0870154/?ref_=bo_cso_table_7', u'https://www.boxofficemojo.com/title/tt0257076/?ref_=bo_cso_table_8', u'https://www.boxofficemojo.com/title/tt0993846/?ref_=bo_cso_table_9', u'https://www.boxofficemojo.com/title/tt0298203/?ref_=bo_cso_table_10', u'https://www.boxofficemojo.com/title/tt0150377/?ref_=bo_cso_table_11', u'https://www.boxofficemojo.com/title/tt1327773/?ref_=bo_cso_table_12', u'https://www.boxofficemojo.com/title/tt1133985/?ref_=bo_cso_table_13', u'https://www.boxofficemojo.com/title/tt0125439/?ref_=bo_cso_table_14', u'https://www.boxofficemojo.com/title/tt0072308/?ref_=bo_cso_table_15', u'https://www.boxofficemojo.com/title/tt0128853/?ref_=bo_cso_table_16', u'https://www.boxofficemojo.com/title/tt0259324/?ref_=bo_cso_table_17', u'https://www.boxofficemojo.com/title/tt0210945/?ref_=bo_cso_table_18', u'https://www.boxofficemojo.com/title/tt6343314/?ref_=bo_cso_table_19', u'https://www.boxofficemojo.com/title/tt1136608/?ref_=bo_cso_table_20', u'https://www.boxofficemojo.com/title/tt1809398/?ref_=bo_cso_table_21', u'https://www.boxofficemojo.com/title/tt5117670/?ref_=bo_cso_table_22', u'https://www.boxofficemojo.com/title/tt0094737/?ref_=bo_cso_table_23', u'https://www.boxofficemojo.com/title/tt3564472/?ref_=bo_cso_table_24', u'https://www.boxofficemojo.com/title/tt0091326/?ref_=bo_cso_table_25', u'https://www.boxofficemojo.com/title/tt0069704/?ref_=bo_cso_table_26', u'https://www.boxofficemojo.com/title/tt3861390/?ref_=bo_cso_table_27', u'https://www.boxofficemojo.com/title/tt4465564/?ref_=bo_cso_table_28', u'https://www.boxofficemojo.com/title/tt0364725/?ref_=bo_cso_table_29', u'https://www.boxofficemojo.com/title/tt0368447/?ref_=bo_cso_table_30', u'https://www.boxofficemojo.com/title/tt0397892/?ref_=bo_cso_table_31', u'https://www.boxofficemojo.com/title/tt4777008/?ref_=bo_cso_table_32', u'https://www.boxofficemojo.com/title/tt0120891/?ref_=bo_cso_table_33', u'https://www.boxofficemojo.com/title/tt1915581/?ref_=bo_cso_table_34', u'https://www.boxofficemojo.com/title/tt2692250/?ref_=bo_cso_table_35', u'https://www.boxofficemojo.com/title/tt0101272/?ref_=bo_cso_table_36', u'https://www.boxofficemojo.com/title/tt0187393/?ref_=bo_cso_table_37', u'https://www.boxofficemojo.com/title/tt4651520/?ref_=bo_cso_table_38', u'https://www.boxofficemojo.com/title/tt1194173/?ref_=bo_cso_table_39', u'https://www.boxofficemojo.com/title/tt0395699/?ref_=bo_cso_table_40', u'https://www.boxofficemojo.com/title/tt0240462/?ref_=bo_cso_table_41', u'https://www.boxofficemojo.com/title/tt0073629/?ref_=bo_cso_table_42', u'https://www.boxofficemojo.com/title/tt1230414/?ref_=bo_cso_table_43', u'https://www.boxofficemojo.com/title/tt0227538/?ref_=bo_cso_table_44', u'https://www.boxofficemojo.com/title/tt0097428/?ref_=bo_cso_table_45', u'https://www.boxofficemojo.com/title/tt0119094/?ref_=bo_cso_table_46', u'https://www.boxofficemojo.com/title/tt1951261/?ref_=bo_cso_table_47', u'https://www.boxofficemojo.com/title/tt0096320/?ref_=bo_cso_table_48', u'https://www.boxofficemojo.com/title/tt0338459/?ref_=bo_cso_table_49', u'https://www.boxofficemojo.com/title/tt0059113/?ref_=bo_cso_table_50', u'https://www.boxofficemojo.com/title/tt0120660/?ref_=bo_cso_table_51', u'https://www.boxofficemojo.com/title/tt0097757/?ref_=bo_cso_table_52', u'https://www.boxofficemojo.com/title/tt0864835/?ref_=bo_cso_table_53', u'https://www.boxofficemojo.com/title/tt0084522/?ref_=bo_cso_table_54', u'https://www.boxofficemojo.com/title/tt0325710/?ref_=bo_cso_table_55', u'https://www.boxofficemojo.com/title/tt6823368/?ref_=bo_cso_table_56', u'https://www.boxofficemojo.com/title/tt3079380/?ref_=bo_cso_table_57', u'https://www.boxofficemojo.com/title/tt0817230/?ref_=bo_cso_table_58', u'https://www.boxofficemojo.com/title/tt0942385/?ref_=bo_cso_table_59', u'https://www.boxofficemojo.com/title/tt3741700/?ref_=bo_cso_table_60', u'https://www.boxofficemojo.com/title/tt0391198/?ref_=bo_cso_table_61', u'https://www.boxofficemojo.com/title/tt0369441/?ref_=bo_cso_table_62', u'https://www.boxofficemojo.com/title/tt0322330/?ref_=bo_cso_table_63', u'https://www.boxofficemojo.com/title/tt3152624/?ref_=bo_cso_table_64', u'https://www.boxofficemojo.com/title/tt0960731/?ref_=bo_cso_table_65', u'https://www.boxofficemojo.com/title/tt0306047/?ref_=bo_cso_table_66', u'https://www.boxofficemojo.com/title/tt3076658/?ref_=bo_cso_table_67', u'https://www.boxofficemojo.com/title/tt0092007/?ref_=bo_cso_table_68', u'https://www.boxofficemojo.com/title/tt0405422/?ref_=bo_cso_table_69', u'https://www.boxofficemojo.com/title/tt0092493/?ref_=bo_cso_table_70', u'https://www.boxofficemojo.com/title/tt1078940/?ref_=bo_cso_table_71', u'https://www.boxofficemojo.com/title/tt0073486/?ref_=bo_cso_table_72', u'https://www.boxofficemojo.com/title/tt0117913/?ref_=bo_cso_table_73', u'https://www.boxofficemojo.com/title/tt0265086/?ref_=bo_cso_table_74', u'https://www.boxofficemojo.com/title/tt1411704/?ref_=bo_cso_table_75', u'https://www.boxofficemojo.com/title/tt0086425/?ref_=bo_cso_table_76', u'https://www.boxofficemojo.com/title/tt0112281/?ref_=bo_cso_table_77', u'https://www.boxofficemojo.com/title/tt1160419/?ref_=bo_cso_table_78', u'https://www.boxofficemojo.com/title/tt1987680/?ref_=bo_cso_table_79', u'https://www.boxofficemojo.com/title/tt0247638/?ref_=bo_cso_table_80', u'https://www.boxofficemojo.com/title/tt0081573/?ref_=bo_cso_table_81', u'https://www.boxofficemojo.com/title/tt3281548/?ref_=bo_cso_table_82', u'https://www.boxofficemojo.com/title/tt0110912/?ref_=bo_cso_table_83', u'https://www.boxofficemojo.com/title/tt1179904/?ref_=bo_cso_table_84', u'https://www.boxofficemojo.com/title/tt3890160/?ref_=bo_cso_table_85', u'https://www.boxofficemojo.com/title/tt0104694/?ref_=bo_cso_table_86', u'https://www.boxofficemojo.com/title/tt0848537/?ref_=bo_cso_table_87', u'https://www.boxofficemojo.com/title/tt0409459/?ref_=bo_cso_table_88', u'https://www.boxofficemojo.com/title/tt1985949/?ref_=bo_cso_table_89', u'https://www.boxofficemojo.com/title/tt0118688/?ref_=bo_cso_table_90', u'https://www.boxofficemojo.com/title/tt1535109/?ref_=bo_cso_table_91', u'https://www.boxofficemojo.com/title/tt0947798/?ref_=bo_cso_table_92', u'https://www.boxofficemojo.com/title/tt0122933/?ref_=bo_cso_table_93', u'https://www.boxofficemojo.com/title/tt0120630/?ref_=bo_cso_table_94', u'https://www.boxofficemojo.com/title/tt0212346/?ref_=bo_cso_table_95', u'https://www.boxofficemojo.com/title/tt0107211/?ref_=bo_cso_table_96', u'https://www.boxofficemojo.com/title/tt0097239/?ref_=bo_cso_table_97', u'https://www.boxofficemojo.com/title/tt1253863/?ref_=bo_cso_table_98', u'https://www.boxofficemojo.com/title/tt0066011/?ref_=bo_cso_table_99', u'https://www.boxofficemojo.com/title/tt0113189/?ref_=bo_cso_table_100', u'https://www.boxofficemojo.com/title/tt0079417/?ref_=bo_cso_table_101', u'https://www.boxofficemojo.com/title/tt0317740/?ref_=bo_cso_table_102', u'https://www.boxofficemojo.com/title/tt3513498/?ref_=bo_cso_table_103', u'https://www.boxofficemojo.com/title/tt15474916/?ref_=bo_cso_table_104', u'https://www.boxofficemojo.com/title/tt0251127/?ref_=bo_cso_table_105', u'https://www.boxofficemojo.com/title/tt0116313/?ref_=bo_cso_table_106', u'https://www.boxofficemojo.com/title/tt13320622/?ref_=bo_cso_table_107', u'https://www.boxofficemojo.com/title/tt0955308/?ref_=bo_cso_table_108', u'https://www.boxofficemojo.com/title/tt0110148/?ref_=bo_cso_table_109', u'https://www.boxofficemojo.com/title/tt0119190/?ref_=bo_cso_table_110', u'https://www.boxofficemojo.com/title/tt5503686/?ref_=bo_cso_table_111', u'https://www.boxofficemojo.com/title/tt0061722/?ref_=bo_cso_table_112', u'https://www.boxofficemojo.com/title/tt4765284/?ref_=bo_cso_table_113', u'https://www.boxofficemojo.com/title/tt0117333/?ref_=bo_cso_table_114', u'https://www.boxofficemojo.com/title/tt0328828/?ref_=bo_cso_table_115', u'https://www.boxofficemojo.com/title/tt0257044/?ref_=bo_cso_table_116', u'https://www.boxofficemojo.com/title/tt0780521/?ref_=bo_cso_table_117', u'https://www.boxofficemojo.com/title/tt0980970/?ref_=bo_cso_table_118', u'https://www.boxofficemojo.com/title/tt0317303/?ref_=bo_cso_table_119', u'https://www.boxofficemojo.com/title/tt5657846/?ref_=bo_cso_table_120', u'https://www.boxofficemojo.com/title/tt1778304/?ref_=bo_cso_table_121', u'https://www.boxofficemojo.com/title/tt1397514/?ref_=bo_cso_table_122', u'https://www.boxofficemojo.com/title/tt7959026/?ref_=bo_cso_table_123', u'https://www.boxofficemojo.com/title/tt0099422/?ref_=bo_cso_table_124', u'https://www.boxofficemojo.com/title/tt1446192/?ref_=bo_cso_table_125', u'https://www.boxofficemojo.com/title/tt12593682/?ref_=bo_cso_table_126', u'https://www.boxofficemojo.com/title/tt0443489/?ref_=bo_cso_table_127', u'https://www.boxofficemojo.com/title/tt0080319/?ref_=bo_cso_table_128', u'https://www.boxofficemojo.com/title/tt1628841/?ref_=bo_cso_table_129', u'https://www.boxofficemojo.com/title/tt1320253/?ref_=bo_cso_table_130', u'https://www.boxofficemojo.com/title/tt0117571/?ref_=bo_cso_table_131', u'https://www.boxofficemojo.com/title/tt1564367/?ref_=bo_cso_table_132', u'https://www.boxofficemojo.com/title/tt3402236/?ref_=bo_cso_table_133', u'https://www.boxofficemojo.com/title/tt0144214/?ref_=bo_cso_table_134', u'https://www.boxofficemojo.com/title/tt0338751/?ref_=bo_cso_table_135', u'https://www.boxofficemojo.com/title/tt0163651/?ref_=bo_cso_table_136', u'https://www.boxofficemojo.com/title/tt0287978/?ref_=bo_cso_table_137', u'https://www.boxofficemojo.com/title/tt3065204/?ref_=bo_cso_table_138', u'https://www.boxofficemojo.com/title/tt1568346/?ref_=bo_cso_table_139', u'https://www.boxofficemojo.com/title/tt0859163/?ref_=bo_cso_table_140', u'https://www.boxofficemojo.com/title/tt1790864/?ref_=bo_cso_table_141', u'https://www.boxofficemojo.com/title/tt0107206/?ref_=bo_cso_table_142', u'https://www.boxofficemojo.com/title/tt0064115/?ref_=bo_cso_table_143', u'https://www.boxofficemojo.com/title/tt0058331/?ref_=bo_cso_table_144', u'https://www.boxofficemojo.com/title/tt0034492/?ref_=bo_cso_table_145', u'https://www.boxofficemojo.com/title/tt5140878/?ref_=bo_cso_table_146', u'https://www.boxofficemojo.com/title/tt3766354/?ref_=bo_cso_table_147', u'https://www.boxofficemojo.com/title/tt3063516/?ref_=bo_cso_table_148', u'https://www.boxofficemojo.com/title/tt1663662/?ref_=bo_cso_table_149', u'https://www.boxofficemojo.com/title/tt0373051/?ref_=bo_cso_table_150', u'https://www.boxofficemojo.com/title/tt0187078/?ref_=bo_cso_table_151', u'https://www.boxofficemojo.com/title/tt0110478/?ref_=bo_cso_table_152', u'https://www.boxofficemojo.com/title/tt0102945/?ref_=bo_cso_table_153', u'https://www.boxofficemojo.com/title/tt0455944/?ref_=bo_cso_table_154', u'https://www.boxofficemojo.com/title/tt1245492/?ref_=bo_cso_table_155', u'https://www.boxofficemojo.com/title/tt1059786/?ref_=bo_cso_table_156', u'https://www.boxofficemojo.com/title/tt0120794/?ref_=bo_cso_table_157', u'https://www.boxofficemojo.com/title/tt0120082/?ref_=bo_cso_table_158', u'https://www.boxofficemojo.com/title/tt0081562/?ref_=bo_cso_table_159', u'https://www.boxofficemojo.com/title/tt0116213/?ref_=bo_cso_table_160', u'https://www.boxofficemojo.com/title/tt1959490/?ref_=bo_cso_table_161', u'https://www.boxofficemojo.com/title/tt0105695/?ref_=bo_cso_table_162', u'https://www.boxofficemojo.com/title/tt0312528/?ref_=bo_cso_table_163', u'https://www.boxofficemojo.com/title/tt0118880/?ref_=bo_cso_table_164', u'https://www.boxofficemojo.com/title/tt0162661/?ref_=bo_cso_table_165', u'https://www.boxofficemojo.com/title/tt2231461/?ref_=bo_cso_table_166', u'https://www.boxofficemojo.com/title/tt0369339/?ref_=bo_cso_table_167', u'https://www.boxofficemojo.com/title/tt0118884/?ref_=bo_cso_table_168', u'https://www.boxofficemojo.com/title/tt5034838/?ref_=bo_cso_table_169', u'https://www.boxofficemojo.com/title/tt0305357/?ref_=bo_cso_table_170', u'https://www.boxofficemojo.com/title/tt0107798/?ref_=bo_cso_table_171', u'https://www.boxofficemojo.com/title/tt1620981/?ref_=bo_cso_table_172', u'https://www.boxofficemojo.com/title/tt0259711/?ref_=bo_cso_table_173', u'https://www.boxofficemojo.com/title/tt2543164/?ref_=bo_cso_table_174', u'https://www.boxofficemojo.com/title/tt1231583/?ref_=bo_cso_table_175', u'https://www.boxofficemojo.com/title/tt0113497/?ref_=bo_cso_table_176', u'https://www.boxofficemojo.com/title/tt0134067/?ref_=bo_cso_table_177', u'https://www.boxofficemojo.com/title/tt0405159/?ref_=bo_cso_table_178', u'https://www.boxofficemojo.com/title/tt0065377/?ref_=bo_cso_table_179', u'https://www.boxofficemojo.com/title/tt1620680/?ref_=bo_cso_table_180', u'https://www.boxofficemojo.com/title/tt0838283/?ref_=bo_cso_table_181', u'https://www.boxofficemojo.com/title/tt0413099/?ref_=bo_cso_table_182', u'https://www.boxofficemojo.com/title/tt4477536/?ref_=bo_cso_table_183', u'https://www.boxofficemojo.com/title/tt0112642/?ref_=bo_cso_table_184', u'https://www.boxofficemojo.com/title/tt0138097/?ref_=bo_cso_table_185', u'https://www.boxofficemojo.com/title/tt1284575/?ref_=bo_cso_table_186', u'https://www.boxofficemojo.com/title/tt1302067/?ref_=bo_cso_table_187', u'https://www.boxofficemojo.com/title/tt0409847/?ref_=bo_cso_table_188', u'https://www.boxofficemojo.com/title/tt4649466/?ref_=bo_cso_table_189', u'https://www.boxofficemojo.com/title/tt1631867/?ref_=bo_cso_table_190', u'https://www.boxofficemojo.com/title/tt0116583/?ref_=bo_cso_table_191', u'https://www.boxofficemojo.com/title/tt0114369/?ref_=bo_cso_table_192', u'https://www.boxofficemojo.com/title/tt0098067/?ref_=bo_cso_table_193', u'https://www.boxofficemojo.com/title/tt0960144/?ref_=bo_cso_table_194', u'https://www.boxofficemojo.com/title/tt1355644/?ref_=bo_cso_table_195', u'https://www.boxofficemojo.com/title/tt0112864/?ref_=bo_cso_table_196', u'https://www.boxofficemojo.com/title/tt0377981/?ref_=bo_cso_table_197', u'https://www.boxofficemojo.com/title/tt4575576/?ref_=bo_cso_table_198', u'https://www.boxofficemojo.com/title/tt0119282/?ref_=bo_cso_table_199', u'https://www.boxofficemojo.com/title/tt2302755/?ref_=bo_cso_table_200', u'https://www.boxofficemojo.com/title/tt0990407/?ref_=bo_cso_table_1', u'https://www.boxofficemojo.com/title/tt1279935/?ref_=bo_cso_table_2', u'https://www.boxofficemojo.com/title/tt0088939/?ref_=bo_cso_table_3', u'https://www.boxofficemojo.com/title/tt0396555/?ref_=bo_cso_table_4', u'https://www.boxofficemojo.com/title/tt1068680/?ref_=bo_cso_table_5', u'https://www.boxofficemojo.com/title/tt1700841/?ref_=bo_cso_table_6', u'https://www.boxofficemojo.com/title/tt0141369/?ref_=bo_cso_table_7', u'https://www.boxofficemojo.com/title/tt8115900/?ref_=bo_cso_table_8', u'https://www.boxofficemojo.com/title/tt1152836/?ref_=bo_cso_table_9', u'https://www.boxofficemojo.com/title/tt1285016/?ref_=bo_cso_table_10', u'https://www.boxofficemojo.com/title/tt0108052/?ref_=bo_cso_table_11', u'https://www.boxofficemojo.com/title/tt6398184/?ref_=bo_cso_table_12', u'https://www.boxofficemojo.com/title/tt0230600/?ref_=bo_cso_table_13', u'https://www.boxofficemojo.com/title/tt0250494/?ref_=bo_cso_table_14', u'https://www.boxofficemojo.com/title/tt0258000/?ref_=bo_cso_table_15', u'https://www.boxofficemojo.com/title/tt2066051/?ref_=bo_cso_table_16', u'https://www.boxofficemojo.com/title/tt2953050/?ref_=bo_cso_table_17', u'https://www.boxofficemojo.com/title/tt0078788/?ref_=bo_cso_table_18', u'https://www.boxofficemojo.com/title/tt0097165/?ref_=bo_cso_table_19', u'https://www.boxofficemojo.com/title/tt4123432/?ref_=bo_cso_table_20', u'https://www.boxofficemojo.com/title/tt1790885/?ref_=bo_cso_table_21', u'https://www.boxofficemojo.com/title/tt0477051/?ref_=bo_cso_table_22', u'https://www.boxofficemojo.com/title/tt0159365/?ref_=bo_cso_table_23', u'https://www.boxofficemojo.com/title/tt0082031/?ref_=bo_cso_table_24', u'https://www.boxofficemojo.com/title/tt1261945/?ref_=bo_cso_table_25', u'https://www.boxofficemojo.com/title/tt0117038/?ref_=bo_cso_table_26', u'https://www.boxofficemojo.com/title/tt0368933/?ref_=bo_cso_table_27', u'https://www.boxofficemojo.com/title/tt0453562/?ref_=bo_cso_table_28', u'https://www.boxofficemojo.com/title/tt0217869/?ref_=bo_cso_table_29', u'https://www.boxofficemojo.com/title/tt1037705/?ref_=bo_cso_table_30', u'https://www.boxofficemojo.com/title/tt0443649/?ref_=bo_cso_table_31', u'https://www.boxofficemojo.com/title/tt1014775/?ref_=bo_cso_table_32', u'https://www.boxofficemojo.com/title/tt0076666/?ref_=bo_cso_table_33', u'https://www.boxofficemojo.com/title/tt1135503/?ref_=bo_cso_table_34', u'https://www.boxofficemojo.com/title/tt0120746/?ref_=bo_cso_table_35', u'https://www.boxofficemojo.com/title/tt0252076/?ref_=bo_cso_table_36', u'https://www.boxofficemojo.com/title/tt1001508/?ref_=bo_cso_table_37', u'https://www.boxofficemojo.com/title/tt0311113/?ref_=bo_cso_table_38', u'https://www.boxofficemojo.com/title/tt1907668/?ref_=bo_cso_table_39', u'https://www.boxofficemojo.com/title/tt8912936/?ref_=bo_cso_table_40', u'https://www.boxofficemojo.com/title/tt0964517/?ref_=bo_cso_table_41', u'https://www.boxofficemojo.com/title/tt0265029/?ref_=bo_cso_table_42', u'https://www.boxofficemojo.com/title/tt0048280/?ref_=bo_cso_table_43', u'https://www.boxofficemojo.com/title/tt0825232/?ref_=bo_cso_table_44', u'https://www.boxofficemojo.com/title/tt1964418/?ref_=bo_cso_table_45', u'https://www.boxofficemojo.com/title/tt2404435/?ref_=bo_cso_table_46', u'https://www.boxofficemojo.com/title/tt0239395/?ref_=bo_cso_table_47', u'https://www.boxofficemojo.com/title/tt0290296/?ref_=bo_cso_table_48', u'https://www.boxofficemojo.com/title/tt0313737/?ref_=bo_cso_table_49', u'https://www.boxofficemojo.com/title/tt0289765/?ref_=bo_cso_table_50', u'https://www.boxofficemojo.com/title/tt0042332/?ref_=bo_cso_table_51', u'https://www.boxofficemojo.com/title/tt0098635/?ref_=bo_cso_table_52', u'https://www.boxofficemojo.com/title/tt1535108/?ref_=bo_cso_table_53', u'https://www.boxofficemojo.com/title/tt0119137/?ref_=bo_cso_table_54', u'https://www.boxofficemojo.com/title/tt0085549/?ref_=bo_cso_table_55', u'https://www.boxofficemojo.com/title/tt0840361/?ref_=bo_cso_table_56', u'https://www.boxofficemojo.com/title/tt2024469/?ref_=bo_cso_table_57', u'https://www.boxofficemojo.com/title/tt0109446/?ref_=bo_cso_table_58', u'https://www.boxofficemojo.com/title/tt1856101/?ref_=bo_cso_table_59', u'https://www.boxofficemojo.com/title/tt4425200/?ref_=bo_cso_table_60', u'https://www.boxofficemojo.com/title/tt0117731/?ref_=bo_cso_table_61', u'https://www.boxofficemojo.com/title/tt10665338/?ref_=bo_cso_table_62', u'https://www.boxofficemojo.com/title/tt1621045/?ref_=bo_cso_table_63', u'https://www.boxofficemojo.com/title/tt0099938/?ref_=bo_cso_table_64', u'https://www.boxofficemojo.com/title/tt1929263/?ref_=bo_cso_table_65', u'https://www.boxofficemojo.com/title/tt0171363/?ref_=bo_cso_table_66', u'https://www.boxofficemojo.com/title/tt0112740/?ref_=bo_cso_table_67', u'https://www.boxofficemojo.com/title/tt0090685/?ref_=bo_cso_table_68', u'https://www.boxofficemojo.com/title/tt2869728/?ref_=bo_cso_table_69', u'https://www.boxofficemojo.com/title/tt0120686/?ref_=bo_cso_table_70', u'https://www.boxofficemojo.com/title/tt2084970/?ref_=bo_cso_table_71', u'https://www.boxofficemojo.com/title/tt0087538/?ref_=bo_cso_table_72', u'https://www.boxofficemojo.com/title/tt0206275/?ref_=bo_cso_table_73', u'https://www.boxofficemojo.com/title/tt0277296/?ref_=bo_cso_table_74', u'https://www.boxofficemojo.com/title/tt0473075/?ref_=bo_cso_table_75', u'https://www.boxofficemojo.com/title/tt0120587/?ref_=bo_cso_table_76', u'https://www.boxofficemojo.com/title/tt0362120/?ref_=bo_cso_table_77', u'https://www.boxofficemojo.com/title/tt0492956/?ref_=bo_cso_table_78', u'https://www.boxofficemojo.com/title/tt0117705/?ref_=bo_cso_table_79', u'https://www.boxofficemojo.com/title/tt0183505/?ref_=bo_cso_table_80', u'https://www.boxofficemojo.com/title/tt0962726/?ref_=bo_cso_table_81', u'https://www.boxofficemojo.com/title/tt1142800/?ref_=bo_cso_table_82', u'https://www.boxofficemojo.com/title/tt0186566/?ref_=bo_cso_table_83', u'https://www.boxofficemojo.com/title/tt2561572/?ref_=bo_cso_table_84', u'https://www.boxofficemojo.com/title/tt0086465/?ref_=bo_cso_table_85', u'https://www.boxofficemojo.com/title/tt1245526/?ref_=bo_cso_table_86', u'https://www.boxofficemojo.com/title/tt1691917/?ref_=bo_cso_table_87', u'https://www.boxofficemojo.com/title/tt9411972/?ref_=bo_cso_table_88', u'https://www.boxofficemojo.com/title/tt0333780/?ref_=bo_cso_table_89', u'https://www.boxofficemojo.com/title/tt0327056/?ref_=bo_cso_table_90', u'https://www.boxofficemojo.com/title/tt7144666/?ref_=bo_cso_table_91', u'https://www.boxofficemojo.com/title/tt1340138/?ref_=bo_cso_table_92', u'https://www.boxofficemojo.com/title/tt0408790/?ref_=bo_cso_table_93', u'https://www.boxofficemojo.com/title/tt0120917/?ref_=bo_cso_table_94', u'https://www.boxofficemojo.com/title/tt0101862/?ref_=bo_cso_table_95', u'https://www.boxofficemojo.com/title/tt1210819/?ref_=bo_cso_table_96', u'https://www.boxofficemojo.com/title/tt2446042/?ref_=bo_cso_table_97', u'https://www.boxofficemojo.com/title/tt4160708/?ref_=bo_cso_table_98', u'https://www.boxofficemojo.com/title/tt0134084/?ref_=bo_cso_table_99', u'https://www.boxofficemojo.com/title/tt1483013/?ref_=bo_cso_table_100', u'https://www.boxofficemojo.com/title/tt1142988/?ref_=bo_cso_table_101', u'https://www.boxofficemojo.com/title/tt0814255/?ref_=bo_cso_table_102', u'https://www.boxofficemojo.com/title/tt0427229/?ref_=bo_cso_table_103', u'https://www.boxofficemojo.com/title/tt1204342/?ref_=bo_cso_table_104', u'https://www.boxofficemojo.com/title/tt0454848/?ref_=bo_cso_table_105', u'https://www.boxofficemojo.com/title/tt0099088/?ref_=bo_cso_table_106', u'https://www.boxofficemojo.com/title/tt0114898/?ref_=bo_cso_table_107', u'https://www.boxofficemojo.com/title/tt0335438/?ref_=bo_cso_table_108', u'https://www.boxofficemojo.com/title/tt0343135/?ref_=bo_cso_table_109', u'https://www.boxofficemojo.com/title/tt0104389/?ref_=bo_cso_table_110', u'https://www.boxofficemojo.com/title/tt0137494/?ref_=bo_cso_table_111', u'https://www.boxofficemojo.com/title/tt0046183/?ref_=bo_cso_table_112', u'https://www.boxofficemojo.com/title/tt0910936/?ref_=bo_cso_table_113', u'https://www.boxofficemojo.com/title/tt1935859/?ref_=bo_cso_table_114', u'https://www.boxofficemojo.com/title/tt0120661/?ref_=bo_cso_table_115', u'https://www.boxofficemojo.com/title/tt0089755/?ref_=bo_cso_table_116', u'https://www.boxofficemojo.com/title/tt1850457/?ref_=bo_cso_table_117', u'https://www.boxofficemojo.com/title/tt0432348/?ref_=bo_cso_table_118', u'https://www.boxofficemojo.com/title/tt0102510/?ref_=bo_cso_table_119', u'https://www.boxofficemojo.com/title/tt1790886/?ref_=bo_cso_table_120', u'https://www.boxofficemojo.com/title/tt0098621/?ref_=bo_cso_table_121', u'https://www.boxofficemojo.com/title/tt0078767/?ref_=bo_cso_table_122', u'https://www.boxofficemojo.com/title/tt0100404/?ref_=bo_cso_table_123', u'https://www.boxofficemojo.com/title/tt0072431/?ref_=bo_cso_table_124', u'https://www.boxofficemojo.com/title/tt2140479/?ref_=bo_cso_table_125', u'https://www.boxofficemojo.com/title/tt2096672/?ref_=bo_cso_table_126', u'https://www.boxofficemojo.com/title/tt3228774/?ref_=bo_cso_table_127', u'https://www.boxofficemojo.com/title/tt4877122/?ref_=bo_cso_table_128', u'https://www.boxofficemojo.com/title/tt0377092/?ref_=bo_cso_table_129', u'https://www.boxofficemojo.com/title/tt1823664/?ref_=bo_cso_table_130', u'https://www.boxofficemojo.com/title/tt2974918/?ref_=bo_cso_table_131', u'https://www.boxofficemojo.com/title/tt0287717/?ref_=bo_cso_table_132', u'https://www.boxofficemojo.com/title/tt0437086/?ref_=bo_cso_table_133', u'https://www.boxofficemojo.com/title/tt2713180/?ref_=bo_cso_table_134', u'https://www.boxofficemojo.com/title/tt0190641/?ref_=bo_cso_table_135', u'https://www.boxofficemojo.com/title/tt0433035/?ref_=bo_cso_table_136', u'https://www.boxofficemojo.com/title/tt0345950/?ref_=bo_cso_table_137', u'https://www.boxofficemojo.com/title/tt3717490/?ref_=bo_cso_table_138', u'https://www.boxofficemojo.com/title/tt0328880/?ref_=bo_cso_table_139', u'https://www.boxofficemojo.com/title/tt0083131/?ref_=bo_cso_table_140', u'https://www.boxofficemojo.com/title/tt0357413/?ref_=bo_cso_table_141', u'https://www.boxofficemojo.com/title/tt0077523/?ref_=bo_cso_table_142', u'https://www.boxofficemojo.com/title/tt0079817/?ref_=bo_cso_table_143', u'https://www.boxofficemojo.com/title/tt0090605/?ref_=bo_cso_table_144', u'https://www.boxofficemojo.com/title/tt0400717/?ref_=bo_cso_table_145', u'https://www.boxofficemojo.com/title/tt6966692/?ref_=bo_cso_table_146', u'https://www.boxofficemojo.com/title/tt1764651/?ref_=bo_cso_table_147', u'https://www.boxofficemojo.com/title/tt0112792/?ref_=bo_cso_table_148', u'https://www.boxofficemojo.com/title/tt1536044/?ref_=bo_cso_table_149', u'https://www.boxofficemojo.com/title/tt0098384/?ref_=bo_cso_table_150', u'https://www.boxofficemojo.com/title/tt0069113/?ref_=bo_cso_table_151', u'https://www.boxofficemojo.com/title/tt2103254/?ref_=bo_cso_table_152', u'https://www.boxofficemojo.com/title/tt0452681/?ref_=bo_cso_table_153', u'https://www.boxofficemojo.com/title/tt3411444/?ref_=bo_cso_table_154', u'https://www.boxofficemojo.com/title/tt1570728/?ref_=bo_cso_table_155', u'https://www.boxofficemojo.com/title/tt3322940/?ref_=bo_cso_table_156', u'https://www.boxofficemojo.com/title/tt0032910/?ref_=bo_cso_table_157', u'https://www.boxofficemojo.com/title/tt0331632/?ref_=bo_cso_table_158', u'https://www.boxofficemojo.com/title/tt7713068/?ref_=bo_cso_table_159', u'https://www.boxofficemojo.com/title/tt0230011/?ref_=bo_cso_table_160', u'https://www.boxofficemojo.com/title/tt0106582/?ref_=bo_cso_table_161', u'https://www.boxofficemojo.com/title/tt2203939/?ref_=bo_cso_table_162', u'https://www.boxofficemojo.com/title/tt0120902/?ref_=bo_cso_table_163', u'https://www.boxofficemojo.com/title/tt1911658/?ref_=bo_cso_table_164', u'https://www.boxofficemojo.com/title/tt0095016/?ref_=bo_cso_table_165', u'https://www.boxofficemojo.com/title/tt1193138/?ref_=bo_cso_table_166', u'https://www.boxofficemojo.com/title/tt1646987/?ref_=bo_cso_table_167', u'https://www.boxofficemojo.com/title/tt2226417/?ref_=bo_cso_table_168', u'https://www.boxofficemojo.com/title/tt0105690/?ref_=bo_cso_table_169', u'https://www.boxofficemojo.com/title/tt1217613/?ref_=bo_cso_table_170', u'https://www.boxofficemojo.com/title/tt1253864/?ref_=bo_cso_table_171', u'https://www.boxofficemojo.com/title/tt6450186/?ref_=bo_cso_table_172', u'https://www.boxofficemojo.com/title/tt0080339/?ref_=bo_cso_table_173', u'https://www.boxofficemojo.com/title/tt0105112/?ref_=bo_cso_table_174', u'https://www.boxofficemojo.com/title/tt6182908/?ref_=bo_cso_table_175', u'https://www.boxofficemojo.com/title/tt2140373/?ref_=bo_cso_table_176', u'https://www.boxofficemojo.com/title/tt6977338/?ref_=bo_cso_table_177', u'https://www.boxofficemojo.com/title/tt0985699/?ref_=bo_cso_table_178', u'https://www.boxofficemojo.com/title/tt0388795/?ref_=bo_cso_table_179', u'https://www.boxofficemojo.com/title/tt1860353/?ref_=bo_cso_table_180', u'https://www.boxofficemojo.com/title/tt0109635/?ref_=bo_cso_table_181', u'https://www.boxofficemojo.com/title/tt0413895/?ref_=bo_cso_table_182', u'https://www.boxofficemojo.com/title/tt0369735/?ref_=bo_cso_table_183', u'https://www.boxofficemojo.com/title/tt0368578/?ref_=bo_cso_table_184', u'https://www.boxofficemojo.com/title/tt0099371/?ref_=bo_cso_table_185', u'https://www.boxofficemojo.com/title/tt0329101/?ref_=bo_cso_table_186', u'https://www.boxofficemojo.com/title/tt0079945/?ref_=bo_cso_table_187', u'https://www.boxofficemojo.com/title/tt1033575/?ref_=bo_cso_table_188', u'https://www.boxofficemojo.com/title/tt0452598/?ref_=bo_cso_table_189', u'https://www.boxofficemojo.com/title/tt0113862/?ref_=bo_cso_table_190', u'https://www.boxofficemojo.com/title/tt0103874/?ref_=bo_cso_table_191', u'https://www.boxofficemojo.com/title/tt0101921/?ref_=bo_cso_table_192', u'https://www.boxofficemojo.com/title/tt1924435/?ref_=bo_cso_table_193', u'https://www.boxofficemojo.com/title/tt0187738/?ref_=bo_cso_table_194', u'https://www.boxofficemojo.com/title/tt0442933/?ref_=bo_cso_table_195', u'https://www.boxofficemojo.com/title/tt0398808/?ref_=bo_cso_table_196', u'https://www.boxofficemojo.com/title/tt0383216/?ref_=bo_cso_table_197', u'https://www.boxofficemojo.com/title/tt3949660/?ref_=bo_cso_table_198', u'https://www.boxofficemojo.com/title/tt6294822/?ref_=bo_cso_table_199', u'https://www.boxofficemojo.com/title/tt0078748/?ref_=bo_cso_table_200'  ]"
   ]
  },
  {
   "cell_type": "code",
   "execution_count": 94,
   "id": "ac4d55a7",
   "metadata": {},
   "outputs": [],
   "source": [
    "#loop all links\n",
    "for page in alllink :\n",
    "    page = requests.get(page)\n",
    "#scrape the movie name\n",
    "    soup = BeautifulSoup(page.text,'html.parser')\n",
    "    movie = soup.find('h1', attrs = {'class': 'a-size-extra-large'})\n",
    "\n",
    "    sleep(randint(2, 8))\n",
    "#append  movie name    \n",
    "    t_movie.append(movie.text)"
   ]
  },
  {
   "cell_type": "code",
   "execution_count": 38,
   "id": "18f31b71",
   "metadata": {},
   "outputs": [
    {
     "data": {
      "text/plain": [
       "'Avatar (2009)'"
      ]
     },
     "execution_count": 38,
     "metadata": {},
     "output_type": "execute_result"
    }
   ],
   "source": [
    "movie.text"
   ]
  },
  {
   "cell_type": "code",
   "execution_count": 96,
   "id": "7c5c37f1",
   "metadata": {},
   "outputs": [],
   "source": [
    "#scraping the pic link    \n",
    "picture=soup.find('div',{\"class\":\"a-fixed-left-grid-col a-col-left\"})\n",
    "#append picture link    \n",
    "t_picture.append(picture.find('img').attrs['src'])"
   ]
  },
  {
   "cell_type": "code",
   "execution_count": 41,
   "id": "272f5f20",
   "metadata": {},
   "outputs": [
    {
     "data": {
      "text/plain": [
       "'https://m.media-amazon.com/images/M/MV5BZDA0OGQxNTItMDZkMC00N2UyLTg3MzMtYTJmNjg3Nzk5MzRiXkEyXkFqcGdeQXVyMjUzOTY1NTc@._V1_SY139_CR1,0,92,139_.jpg'"
      ]
     },
     "execution_count": 41,
     "metadata": {},
     "output_type": "execute_result"
    }
   ],
   "source": [
    "picture.find('img').attrs['src']"
   ]
  },
  {
   "cell_type": "code",
   "execution_count": 97,
   "id": "3f7d41b4",
   "metadata": {},
   "outputs": [],
   "source": [
    "#description\n",
    "description= soup.find('span', attrs = {'class': 'a-size-medium'}).text\n",
    "t_description.append(description)"
   ]
  },
  {
   "cell_type": "code",
   "execution_count": 43,
   "id": "00a4a25b",
   "metadata": {},
   "outputs": [
    {
     "data": {
      "text/plain": [
       "'A paraplegic Marine dispatched to the moon Pandora on a unique mission becomes torn between following his orders and protecting the world he feels is his home.'"
      ]
     },
     "execution_count": 43,
     "metadata": {},
     "output_type": "execute_result"
    }
   ],
   "source": [
    "description"
   ]
  },
  {
   "cell_type": "code",
   "execution_count": 98,
   "id": "0406c89f",
   "metadata": {},
   "outputs": [],
   "source": [
    "#scraping the movie earning: worldwide, domestic, international\n",
    "money = soup.find_all('span', attrs = {'class': 'money'})\n",
    "domestic = money[0].text\n",
    "international = money[1].text\n",
    "worldwide = money[2].text\n",
    "#append worldwide, domestic, international\n",
    "t_domestic.append(domestic)\n",
    "t_international.append(international)\n",
    "t_worldwide.append(worldwide)"
   ]
  },
  {
   "cell_type": "code",
   "execution_count": 49,
   "id": "c3f3cfb4",
   "metadata": {},
   "outputs": [
    {
     "data": {
      "text/plain": [
       "'$785,221,649'"
      ]
     },
     "execution_count": 49,
     "metadata": {},
     "output_type": "execute_result"
    }
   ],
   "source": [
    "domestic"
   ]
  },
  {
   "cell_type": "code",
   "execution_count": 50,
   "id": "a2f220ba",
   "metadata": {},
   "outputs": [
    {
     "data": {
      "text/plain": [
       "'$2,137,696,265'"
      ]
     },
     "execution_count": 50,
     "metadata": {},
     "output_type": "execute_result"
    }
   ],
   "source": [
    "international"
   ]
  },
  {
   "cell_type": "code",
   "execution_count": 51,
   "id": "53aa1a05",
   "metadata": {},
   "outputs": [
    {
     "data": {
      "text/plain": [
       "'$2,922,917,914'"
      ]
     },
     "execution_count": 51,
     "metadata": {},
     "output_type": "execute_result"
    }
   ],
   "source": [
    "worldwide"
   ]
  },
  {
   "cell_type": "code",
   "execution_count": 99,
   "id": "9774d394",
   "metadata": {},
   "outputs": [],
   "source": [
    "#scrapting the distributor name\n",
    "table = soup.find('div', attrs={'class': 'a-section a-spacing-none mojo-summary-values mojo-hidden-from-mobile'})\n",
    "details= table.find_all('div', attrs={'class': 'a-section a-spacing-none'})\n",
    "dis = details[0].find_next('span').find_next('span').text\n",
    "distributor=dis.replace('See full company information\\n\\n','')\n",
    "#append distributor\n",
    "t_distributor.append(distributor)"
   ]
  },
  {
   "cell_type": "code",
   "execution_count": 66,
   "id": "64ea3ff8",
   "metadata": {},
   "outputs": [
    {
     "data": {
      "text/plain": [
       "'Twentieth Century Fox'"
      ]
     },
     "execution_count": 66,
     "metadata": {},
     "output_type": "execute_result"
    }
   ],
   "source": [
    "distributor"
   ]
  },
  {
   "cell_type": "code",
   "execution_count": 100,
   "id": "4d5e291d",
   "metadata": {},
   "outputs": [],
   "source": [
    "#scraping opening\n",
    "opening = details[1].find_next('span').find_next('span').text\n",
    "#append\n",
    "t_opening.append(opening)"
   ]
  },
  {
   "cell_type": "code",
   "execution_count": 68,
   "id": "85992b52",
   "metadata": {},
   "outputs": [
    {
     "data": {
      "text/plain": [
       "'$77,025,481'"
      ]
     },
     "execution_count": 68,
     "metadata": {},
     "output_type": "execute_result"
    }
   ],
   "source": [
    "opening"
   ]
  },
  {
   "cell_type": "code",
   "execution_count": 101,
   "id": "08dd35b7",
   "metadata": {},
   "outputs": [],
   "source": [
    "#scraping budget\n",
    "budget = details[2].find_next('span').find_next('span').text\n",
    "#append budget    \n",
    "t_budget.append(budget if budget[0:1] in ['$'] else '-')"
   ]
  },
  {
   "cell_type": "code",
   "execution_count": 71,
   "id": "bbba55f8",
   "metadata": {},
   "outputs": [
    {
     "data": {
      "text/plain": [
       "'$237,000,000'"
      ]
     },
     "execution_count": 71,
     "metadata": {},
     "output_type": "execute_result"
    }
   ],
   "source": [
    "budget if budget[0:1] in ['$'] else '-'"
   ]
  },
  {
   "cell_type": "code",
   "execution_count": 102,
   "id": "e6a40cee",
   "metadata": {},
   "outputs": [],
   "source": [
    "#scraping release\n",
    "a = details[2].find_next('span').find_next('span').text\n",
    "b = details[3].find_next('span').find_next('span').text\n",
    "c= a.replace('\\n','')\n",
    "d= b.replace('\\n','')\n",
    "#append release\n",
    "t_release.append(d if c[0:1] in ['$'] else c)"
   ]
  },
  {
   "cell_type": "code",
   "execution_count": 74,
   "id": "b0505e4f",
   "metadata": {},
   "outputs": [
    {
     "data": {
      "text/plain": [
       "'December 16, 2009            (LATAM, EMEA)'"
      ]
     },
     "execution_count": 74,
     "metadata": {},
     "output_type": "execute_result"
    }
   ],
   "source": [
    "d if c[0:1] in ['$'] else c"
   ]
  },
  {
   "cell_type": "code",
   "execution_count": 103,
   "id": "bceb82e1",
   "metadata": {},
   "outputs": [],
   "source": [
    "#scraping movie genre\n",
    "gender = details[-2].find_next('span').find_next('span').text\n",
    "#append gender    \n",
    "t_gender.append(gender.replace('\\n','').replace('            ',', '))"
   ]
  },
  {
   "cell_type": "code",
   "execution_count": 77,
   "id": "da54bc8b",
   "metadata": {},
   "outputs": [
    {
     "data": {
      "text/plain": [
       "'Action, Adventure, Fantasy, Sci-Fi'"
      ]
     },
     "execution_count": 77,
     "metadata": {},
     "output_type": "execute_result"
    }
   ],
   "source": [
    "gender.replace('\\n','').replace('            ',', ')"
   ]
  },
  {
   "cell_type": "code",
   "execution_count": 104,
   "id": "198de8fa",
   "metadata": {},
   "outputs": [],
   "source": [
    "#scraping time\n",
    "time = details[-3].find_next('span').find_next('span').text\n",
    "#append time\n",
    "t_time.append(time)"
   ]
  },
  {
   "cell_type": "code",
   "execution_count": 78,
   "id": "76e6def8",
   "metadata": {},
   "outputs": [
    {
     "name": "stdout",
     "output_type": "stream",
     "text": [
      "Wall time: 0 ns\n"
     ]
    }
   ],
   "source": [
    "time"
   ]
  },
  {
   "cell_type": "code",
   "execution_count": 105,
   "id": "3208599d",
   "metadata": {},
   "outputs": [],
   "source": [
    "#scraping family\n",
    "family = details[-4].find_next('span').find_next('span').text\n",
    "#append family\n",
    "t_family.append(family)"
   ]
  },
  {
   "cell_type": "code",
   "execution_count": 81,
   "id": "f5f68f60",
   "metadata": {},
   "outputs": [
    {
     "data": {
      "text/plain": [
       "'PG-13'"
      ]
     },
     "execution_count": 81,
     "metadata": {},
     "output_type": "execute_result"
    }
   ],
   "source": [
    "family"
   ]
  },
  {
   "cell_type": "code",
   "execution_count": 106,
   "id": "b22b41ee",
   "metadata": {},
   "outputs": [],
   "source": [
    "#scraping year\n",
    "year = soup.find('span', attrs={'class': 'a-size-large a-color-secondary'}).text\n",
    "#append year\n",
    "t_year.append(year.replace('(','').replace(')','').strip())"
   ]
  },
  {
   "cell_type": "code",
   "execution_count": 107,
   "id": "d2ed7e43",
   "metadata": {},
   "outputs": [
    {
     "data": {
      "text/plain": [
       "'2009'"
      ]
     },
     "execution_count": 107,
     "metadata": {},
     "output_type": "execute_result"
    }
   ],
   "source": [
    "year.replace('(','').replace(')','').strip()"
   ]
  },
  {
   "cell_type": "code",
   "execution_count": 108,
   "id": "03092899",
   "metadata": {},
   "outputs": [],
   "source": [
    "# write top earned movies to excel\n",
    "t_movieList = pd.DataFrame({\"movie\": t_movie, \"description\": t_description, \"picture\": t_picture, \"international\": t_international, \"domestic\": t_domestic, \"worldwide\": t_worldwide,\"distributor\": t_distributor, \"opening\": t_opening, \"budget\": t_budget, \"release\": t_release, \"family\": t_family, \"time\": t_time , \"gender\": t_gender , \"year\": t_year })\n",
    "t_movieList.to_excel(\"Most earned movies.xlsx\")"
   ]
  },
  {
   "cell_type": "code",
   "execution_count": null,
   "id": "469df4bf",
   "metadata": {},
   "outputs": [],
   "source": [
    "#the end"
   ]
  }
 ],
 "metadata": {
  "kernelspec": {
   "display_name": "Python 3 (ipykernel)",
   "language": "python",
   "name": "python3"
  },
  "language_info": {
   "codemirror_mode": {
    "name": "ipython",
    "version": 3
   },
   "file_extension": ".py",
   "mimetype": "text/x-python",
   "name": "python",
   "nbconvert_exporter": "python",
   "pygments_lexer": "ipython3",
   "version": "3.9.13"
  }
 },
 "nbformat": 4,
 "nbformat_minor": 5
}
